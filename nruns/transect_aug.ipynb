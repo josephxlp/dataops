{
 "cells": [
  {
   "cell_type": "code",
   "execution_count": 4,
   "metadata": {},
   "outputs": [],
   "source": [
    "import sys \n",
    "from uvars import dataops_dir \n",
    "sys.path.append(dataops_dir)\n",
    "\n",
    "from glob import glob"
   ]
  },
  {
   "cell_type": "code",
   "execution_count": 28,
   "metadata": {},
   "outputs": [],
   "source": [
    "from dataops.transec import transect_augment_data\n",
    "from dataops.rops import reproject_files_seq, list2txt,gdalbuildvrt,clip_raster_by_vector_bbox\n",
    "from os.path import join"
   ]
  },
  {
   "cell_type": "code",
   "execution_count": 29,
   "metadata": {},
   "outputs": [],
   "source": [
    "pdem_fn= \"/media/ljp238/12TBWolf/ARCHIEVE/ARCHIVE_VRTV2/pdem/pdem.vrt\"\n",
    "s1_fn=  \"/media/ljp238/12TBWolf/ARCHIEVE/ARCHIVE_VRTV2/s1/s1.vrt\"\n",
    "s2_fn = \"/media/ljp238/12TBWolf/ARCHIEVE/ARCHIVE_VRTV2/s2/s2.vrt\"\n",
    "esawc_fn = \"/media/ljp238/12TBWolf/ARCHIEVE/ARCHIVE_VRTV2/esawc/esawc.vrt\"\n",
    "ldem_fn = \"/media/ljp238/12TBWolf/ARCHIEVE/ARCHIVE_VRTV2/ldem/ldem.vrt\"\n",
    "edem_wgs_fn = \"/media/ljp238/12TBWolf/ARCHIEVE/ARCHIVE_VRTV2/edem_wgs/edem_wgs.vrt\"\n",
    "\n",
    "cutline_dir = \"/media/ljp238/12TBWolf/BRCHIEVE/REFERENCE_DEM/cutline/\"\n",
    "bbox_dir = \"/media/ljp238/12TBWolf/BRCHIEVE/REFERENCE_DEM/bbox/\"\n",
    "exp_dir = \"/media/ljp238/12TBWolf/BRCHIEVE/REFERENCE_DEM/experiment/\"\n",
    "reproj_dir = \"/media/ljp238/12TBWolf/ARCHIEVE/LIDAR_DTM/RNG_reproj\"\n",
    "tiff_files = glob(\"/media/ljp238/12TBWolf/ARCHIEVE/LIDAR_DTM/RNG_OverlapPatchesLiDAR/*.tif\")\n",
    "bbox_files = glob(f\"{bbox_dir}/*DTM_NP*.gpkg\")\n",
    "bbox_fn = bbox_files[0]"
   ]
  },
  {
   "cell_type": "code",
   "execution_count": 30,
   "metadata": {},
   "outputs": [
    {
     "name": "stdout",
     "output_type": "stream",
     "text": [
      "Output file /media/ljp238/12TBWolf/ARCHIEVE/LIDAR_DTM/RNG_reproj/DTM_NP_T-0007_reproj.tif already exists. Skipping reprojection.\n",
      "Output file /media/ljp238/12TBWolf/ARCHIEVE/LIDAR_DTM/RNG_reproj/DTM_NP_T-0018_reproj.tif already exists. Skipping reprojection.\n",
      "Output file /media/ljp238/12TBWolf/ARCHIEVE/LIDAR_DTM/RNG_reproj/DTM_NP_T-0019_reproj.tif already exists. Skipping reprojection.\n",
      "Output file /media/ljp238/12TBWolf/ARCHIEVE/LIDAR_DTM/RNG_reproj/DTM_NP_T-0020_reproj.tif already exists. Skipping reprojection.\n",
      "Output file /media/ljp238/12TBWolf/ARCHIEVE/LIDAR_DTM/RNG_reproj/DTM_NP_T-0215_reproj.tif already exists. Skipping reprojection.\n",
      "Output file /media/ljp238/12TBWolf/ARCHIEVE/LIDAR_DTM/RNG_reproj/DTM_NP_T-0384_reproj.tif already exists. Skipping reprojection.\n",
      "Output file /media/ljp238/12TBWolf/ARCHIEVE/LIDAR_DTM/RNG_reproj/DTM_NP_T-0388_reproj.tif already exists. Skipping reprojection.\n",
      "Output file /media/ljp238/12TBWolf/ARCHIEVE/LIDAR_DTM/RNG_reproj/DTM_NP_T-0389_reproj.tif already exists. Skipping reprojection.\n"
     ]
    }
   ],
   "source": [
    "txt = join(reproj_dir,'transects.txt')\n",
    "vrt = join(reproj_dir,'transects.vrt')\n",
    "epsgcode = 4749#4326\n",
    "reprojected_files = reproject_files_seq(tiff_files, reproj_dir,epsgcode)\n",
    "list2txt(txt, files=reprojected_files)\n",
    "gdalbuildvrt(vrt, txt, epsgcode)"
   ]
  },
  {
   "cell_type": "code",
   "execution_count": 41,
   "metadata": {},
   "outputs": [],
   "source": [
    "import os \n",
    "import pandas as pd \n",
    "import rasterio"
   ]
  },
  {
   "cell_type": "code",
   "execution_count": 50,
   "metadata": {},
   "outputs": [],
   "source": [
    "def create_zdiff(dsm_path, dtm_path, dif_path, ndv=-9999.0):\n",
    "    \"\"\"\n",
    "    Computes the difference (DSM - DTM) and saves it to the specified output path.\n",
    "    \n",
    "    Parameters:\n",
    "        dsm_path (str): Path to the DSM raster file.\n",
    "        dtm_path (str): Path to the DTM raster file.\n",
    "        dif_path (str): Path to save the difference raster (DSM - DTM).\n",
    "        ndv (float): Nodata value for the output raster (default is -9999.0).\n",
    "        \n",
    "    Returns:\n",
    "        None\n",
    "    \"\"\"\n",
    "    # Check if the output file already exists\n",
    "    if os.path.exists(dif_path):\n",
    "        print(f\"Output file {dif_path} already exists. Skipping computation.\")\n",
    "        return\n",
    "\n",
    "    # Open the input rasters\n",
    "    with rasterio.open(dsm_path) as dsm_src, rasterio.open(dtm_path) as dtm_src:\n",
    "        # Validate that the rasters are compatible\n",
    "        \n",
    "        # reshape \n",
    "        if dsm_src.crs != dtm_src.crs:\n",
    "            raise ValueError(\"Input rasters do not have the same CRS.\")\n",
    "        \n",
    "        if dsm_src.shape != dtm_src.shape:\n",
    "            raise ValueError(\"Input rasters do not have the same dimensions.\")\n",
    "        # assing \n",
    "        #if dsm_src.transform != dtm_src.transform:\n",
    "            #raise ValueError(\"Input rasters do not have the same transform.\")\n",
    "\n",
    "        # Read the raster data\n",
    "        dsm = dsm_src.read(1)  # Read the first band of DSM\n",
    "        dtm = dtm_src.read(1)  # Read the first band of DTM\n",
    "\n",
    "        # Compute the difference (DSM - DTM)\n",
    "        dif = dsm - dtm\n",
    "\n",
    "        # Apply nodata mask: retain only valid DTM values\n",
    "        valid_mask = (dtm > -99.) & (dtm < 10000)  # Define valid DTM range\n",
    "        dif[~valid_mask] = ndv  # Set invalid areas to nodata\n",
    "\n",
    "        # Copy metadata from one of the input rasters and update nodata value\n",
    "        out_meta = dsm_src.meta\n",
    "        out_meta.update({\n",
    "            'nodata': ndv,\n",
    "            'dtype': 'float32'  # Ensure output dtype is float32 for better GIS compatibility\n",
    "        })\n",
    "\n",
    "    # Write the result to the output path\n",
    "    with rasterio.open(dif_path, \"w\", **out_meta) as dst:\n",
    "        dst.write(dif.astype('float32'), 1)\n",
    "\n",
    "    print(f\"Computed difference raster saved to {dif_path}\")"
   ]
  },
  {
   "cell_type": "code",
   "execution_count": 55,
   "metadata": {},
   "outputs": [],
   "source": [
    "def clip_raster_by_vector_bbox_seq(bbox_files,exp_dir,s1_fn,edem_wgs_fn,vrt):\n",
    "    clip_paths = []\n",
    "    for bbox_fn in bbox_files:\n",
    "        tname = bbox_fn.split('/')[-1][:-14] # go back to where you creare this add put __\n",
    "        print(len(tname))\n",
    "        if len(tname) > 13:\n",
    "            tname = tname[:-1]\n",
    "        print(tname)\n",
    "        toutdir = join(exp_dir, tname)\n",
    "        os.makedirs(toutdir, exist_ok=True)\n",
    "        dsm_path= f\"{toutdir}/clipped_edem.tif\"\n",
    "        dtm_path=f\"{toutdir}/clipped_ldem.tif\"\n",
    "        dif_path =f\"{toutdir}/clipped_zdif.tif\"\n",
    "        s1_path = f\"{toutdir}/clipped_s1.tif\"\n",
    "\n",
    "\n",
    "        clip_raster_by_vector_bbox(s1_fn,s1_path , bbox_fn)\n",
    "        clip_raster_by_vector_bbox(edem_wgs_fn, dsm_path, bbox_fn)\n",
    "        clip_raster_by_vector_bbox(vrt,dtm_path , bbox_fn)\n",
    "        try:\n",
    "            create_zdiff(dsm_path, dtm_path, dif_path, ndv=-9999.0)\n",
    "            clip_paths.append({'bbox_fn':bbox_fn, 's1':s1_path,'edem':dsm_path,\n",
    "                            'ldem':dtm_path, 'zdif':dif_path\n",
    "                        })\n",
    "        except:\n",
    "            print('some thing')\n",
    "    csvfile = join(exp_dir, 'clip_paths.csv')\n",
    "    dfpaths = pd.DataFrame(clip_paths)\n",
    "    dfpaths.to_csv(csvfile, index=False)\n",
    "    return csvfile ,dfpaths"
   ]
  },
  {
   "cell_type": "code",
   "execution_count": 56,
   "metadata": {},
   "outputs": [
    {
     "name": "stdout",
     "output_type": "stream",
     "text": [
      "13\n",
      "DTM_NP_T-0007\n",
      "Output file /media/ljp238/12TBWolf/BRCHIEVE/REFERENCE_DEM/experiment/DTM_NP_T-0007/clipped_zdif.tif already exists. Skipping computation.\n",
      "13\n",
      "DTM_NP_T-0018\n",
      "some thing\n",
      "13\n",
      "DTM_NP_T-0019\n",
      "some thing\n",
      "13\n",
      "DTM_NP_T-0020\n",
      "some thing\n",
      "14\n",
      "DTM_NP_T-0215\n",
      "some thing\n",
      "14\n",
      "DTM_NP_T-0384\n",
      "some thing\n",
      "14\n",
      "DTM_NP_T-0388\n",
      "Computed difference raster saved to /media/ljp238/12TBWolf/BRCHIEVE/REFERENCE_DEM/experiment/DTM_NP_T-0388/clipped_zdif.tif\n",
      "14\n",
      "DTM_NP_T-0389\n",
      "some thing\n"
     ]
    }
   ],
   "source": [
    "csvfile ,dfpaths = clip_raster_by_vector_bbox_seq(bbox_files,exp_dir,s1_fn,edem_wgs_fn,vrt) # replace bbox_vector by tif"
   ]
  },
  {
   "cell_type": "code",
   "execution_count": 40,
   "metadata": {},
   "outputs": [
    {
     "data": {
      "text/html": [
       "<div>\n",
       "<style scoped>\n",
       "    .dataframe tbody tr th:only-of-type {\n",
       "        vertical-align: middle;\n",
       "    }\n",
       "\n",
       "    .dataframe tbody tr th {\n",
       "        vertical-align: top;\n",
       "    }\n",
       "\n",
       "    .dataframe thead th {\n",
       "        text-align: right;\n",
       "    }\n",
       "</style>\n",
       "<table border=\"1\" class=\"dataframe\">\n",
       "  <thead>\n",
       "    <tr style=\"text-align: right;\">\n",
       "      <th></th>\n",
       "      <th>bbox_fn</th>\n",
       "      <th>s1</th>\n",
       "      <th>edem</th>\n",
       "      <th>ldem</th>\n",
       "    </tr>\n",
       "  </thead>\n",
       "  <tbody>\n",
       "    <tr>\n",
       "      <th>0</th>\n",
       "      <td>/media/ljp238/12TBWolf/BRCHIEVE/REFERENCE_DEM/...</td>\n",
       "      <td>/media/ljp238/12TBWolf/BRCHIEVE/REFERENCE_DEM/...</td>\n",
       "      <td>/media/ljp238/12TBWolf/BRCHIEVE/REFERENCE_DEM/...</td>\n",
       "      <td>/media/ljp238/12TBWolf/BRCHIEVE/REFERENCE_DEM/...</td>\n",
       "    </tr>\n",
       "    <tr>\n",
       "      <th>1</th>\n",
       "      <td>/media/ljp238/12TBWolf/BRCHIEVE/REFERENCE_DEM/...</td>\n",
       "      <td>/media/ljp238/12TBWolf/BRCHIEVE/REFERENCE_DEM/...</td>\n",
       "      <td>/media/ljp238/12TBWolf/BRCHIEVE/REFERENCE_DEM/...</td>\n",
       "      <td>/media/ljp238/12TBWolf/BRCHIEVE/REFERENCE_DEM/...</td>\n",
       "    </tr>\n",
       "    <tr>\n",
       "      <th>2</th>\n",
       "      <td>/media/ljp238/12TBWolf/BRCHIEVE/REFERENCE_DEM/...</td>\n",
       "      <td>/media/ljp238/12TBWolf/BRCHIEVE/REFERENCE_DEM/...</td>\n",
       "      <td>/media/ljp238/12TBWolf/BRCHIEVE/REFERENCE_DEM/...</td>\n",
       "      <td>/media/ljp238/12TBWolf/BRCHIEVE/REFERENCE_DEM/...</td>\n",
       "    </tr>\n",
       "    <tr>\n",
       "      <th>3</th>\n",
       "      <td>/media/ljp238/12TBWolf/BRCHIEVE/REFERENCE_DEM/...</td>\n",
       "      <td>/media/ljp238/12TBWolf/BRCHIEVE/REFERENCE_DEM/...</td>\n",
       "      <td>/media/ljp238/12TBWolf/BRCHIEVE/REFERENCE_DEM/...</td>\n",
       "      <td>/media/ljp238/12TBWolf/BRCHIEVE/REFERENCE_DEM/...</td>\n",
       "    </tr>\n",
       "    <tr>\n",
       "      <th>4</th>\n",
       "      <td>/media/ljp238/12TBWolf/BRCHIEVE/REFERENCE_DEM/...</td>\n",
       "      <td>/media/ljp238/12TBWolf/BRCHIEVE/REFERENCE_DEM/...</td>\n",
       "      <td>/media/ljp238/12TBWolf/BRCHIEVE/REFERENCE_DEM/...</td>\n",
       "      <td>/media/ljp238/12TBWolf/BRCHIEVE/REFERENCE_DEM/...</td>\n",
       "    </tr>\n",
       "    <tr>\n",
       "      <th>5</th>\n",
       "      <td>/media/ljp238/12TBWolf/BRCHIEVE/REFERENCE_DEM/...</td>\n",
       "      <td>/media/ljp238/12TBWolf/BRCHIEVE/REFERENCE_DEM/...</td>\n",
       "      <td>/media/ljp238/12TBWolf/BRCHIEVE/REFERENCE_DEM/...</td>\n",
       "      <td>/media/ljp238/12TBWolf/BRCHIEVE/REFERENCE_DEM/...</td>\n",
       "    </tr>\n",
       "    <tr>\n",
       "      <th>6</th>\n",
       "      <td>/media/ljp238/12TBWolf/BRCHIEVE/REFERENCE_DEM/...</td>\n",
       "      <td>/media/ljp238/12TBWolf/BRCHIEVE/REFERENCE_DEM/...</td>\n",
       "      <td>/media/ljp238/12TBWolf/BRCHIEVE/REFERENCE_DEM/...</td>\n",
       "      <td>/media/ljp238/12TBWolf/BRCHIEVE/REFERENCE_DEM/...</td>\n",
       "    </tr>\n",
       "    <tr>\n",
       "      <th>7</th>\n",
       "      <td>/media/ljp238/12TBWolf/BRCHIEVE/REFERENCE_DEM/...</td>\n",
       "      <td>/media/ljp238/12TBWolf/BRCHIEVE/REFERENCE_DEM/...</td>\n",
       "      <td>/media/ljp238/12TBWolf/BRCHIEVE/REFERENCE_DEM/...</td>\n",
       "      <td>/media/ljp238/12TBWolf/BRCHIEVE/REFERENCE_DEM/...</td>\n",
       "    </tr>\n",
       "  </tbody>\n",
       "</table>\n",
       "</div>"
      ],
      "text/plain": [
       "                                             bbox_fn  ...                                               ldem\n",
       "0  /media/ljp238/12TBWolf/BRCHIEVE/REFERENCE_DEM/...  ...  /media/ljp238/12TBWolf/BRCHIEVE/REFERENCE_DEM/...\n",
       "1  /media/ljp238/12TBWolf/BRCHIEVE/REFERENCE_DEM/...  ...  /media/ljp238/12TBWolf/BRCHIEVE/REFERENCE_DEM/...\n",
       "2  /media/ljp238/12TBWolf/BRCHIEVE/REFERENCE_DEM/...  ...  /media/ljp238/12TBWolf/BRCHIEVE/REFERENCE_DEM/...\n",
       "3  /media/ljp238/12TBWolf/BRCHIEVE/REFERENCE_DEM/...  ...  /media/ljp238/12TBWolf/BRCHIEVE/REFERENCE_DEM/...\n",
       "4  /media/ljp238/12TBWolf/BRCHIEVE/REFERENCE_DEM/...  ...  /media/ljp238/12TBWolf/BRCHIEVE/REFERENCE_DEM/...\n",
       "5  /media/ljp238/12TBWolf/BRCHIEVE/REFERENCE_DEM/...  ...  /media/ljp238/12TBWolf/BRCHIEVE/REFERENCE_DEM/...\n",
       "6  /media/ljp238/12TBWolf/BRCHIEVE/REFERENCE_DEM/...  ...  /media/ljp238/12TBWolf/BRCHIEVE/REFERENCE_DEM/...\n",
       "7  /media/ljp238/12TBWolf/BRCHIEVE/REFERENCE_DEM/...  ...  /media/ljp238/12TBWolf/BRCHIEVE/REFERENCE_DEM/...\n",
       "\n",
       "[8 rows x 4 columns]"
      ]
     },
     "execution_count": 40,
     "metadata": {},
     "output_type": "execute_result"
    }
   ],
   "source": [
    "dfpaths"
   ]
  },
  {
   "cell_type": "code",
   "execution_count": null,
   "metadata": {},
   "outputs": [],
   "source": []
  },
  {
   "cell_type": "code",
   "execution_count": null,
   "metadata": {},
   "outputs": [],
   "source": [
    "clip_raster_by_vector_bbox(s1_fn, f\"{toutdir}/clipped_s1.tif\", bbox_fn)\n",
    "clip_raster_by_vector_bbox(edem_wgs_fn, f\"{toutdir}/clipped_edem.tif\", bbox_fn)\n",
    "clip_raster_by_vector_bbox(vrt, f\"{toutdir}/clipped_ldem.tif\", bbox_fn)"
   ]
  }
 ],
 "metadata": {
  "kernelspec": {
   "display_name": "agluon",
   "language": "python",
   "name": "python3"
  },
  "language_info": {
   "codemirror_mode": {
    "name": "ipython",
    "version": 3
   },
   "file_extension": ".py",
   "mimetype": "text/x-python",
   "name": "python",
   "nbconvert_exporter": "python",
   "pygments_lexer": "ipython3",
   "version": "3.11.11"
  }
 },
 "nbformat": 4,
 "nbformat_minor": 2
}

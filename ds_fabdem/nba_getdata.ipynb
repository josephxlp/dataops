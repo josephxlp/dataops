{
 "cells": [
  {
   "cell_type": "code",
   "execution_count": 5,
   "id": "fb845f60",
   "metadata": {},
   "outputs": [],
   "source": [
    "from utils import modify_all_tilenames,tilenames2zipfilename,filter_urls_by_key,wget_download\n",
    "from uvars import fabdem_geojson_fn, fabdem_download_dir, fabdem_urls_txt_fn,tile_rois\n",
    "import pandas as pd \n",
    "import geopandas as gpd "
   ]
  },
  {
   "cell_type": "code",
   "execution_count": 3,
   "id": "1d851e4f",
   "metadata": {},
   "outputs": [
    {
     "name": "stdout",
     "output_type": "stream",
     "text": [
      "['N013E103', 'S002W063', 'N011E105', 'S002W064', 'N012E103', 'S001W063', 'S001W064', 'N010E106', 'N010E105', 'N013E104', 'N011E104', 'N009E105', 'N012E105', 'N012E104', 'N010E104', 'N013E105', 'N009E106']\n"
     ]
    }
   ],
   "source": [
    "modified_tilenames = modify_all_tilenames(tilenames=tile_rois)\n",
    "print(modified_tilenames)\n",
    "dl = pd.read_csv(fabdem_urls_txt_fn).squeeze().tolist()\n",
    "g = gpd.read_file(fabdem_geojson_fn)\n",
    "url1 = filter_urls_by_key(dl, tilenames2zipfilename(g, modified_tilenames))\n"
   ]
  },
  {
   "cell_type": "code",
   "execution_count": 4,
   "id": "9fd2dd54",
   "metadata": {},
   "outputs": [
    {
     "data": {
      "text/plain": [
       "['https://data.bris.ac.uk/datasets/s5hqmjcdj8yo2ibzi9b4ew3sn/N00E100-N10E110_FABDEM_V1-2.zip',\n",
       " 'https://data.bris.ac.uk/datasets/s5hqmjcdj8yo2ibzi9b4ew3sn/N10E100-N20E110_FABDEM_V1-2.zip',\n",
       " 'https://data.bris.ac.uk/datasets/s5hqmjcdj8yo2ibzi9b4ew3sn/S10W070-N00W060_FABDEM_V1-2.zip']"
      ]
     },
     "execution_count": 4,
     "metadata": {},
     "output_type": "execute_result"
    }
   ],
   "source": [
    "url1"
   ]
  },
  {
   "cell_type": "code",
   "execution_count": 6,
   "id": "dadbf065",
   "metadata": {},
   "outputs": [],
   "source": [
    "#for url in url1: wget_download(url,fabdem_download_dir)"
   ]
  },
  {
   "cell_type": "code",
   "execution_count": null,
   "id": "a092670e",
   "metadata": {},
   "outputs": [],
   "source": []
  }
 ],
 "metadata": {
  "kernelspec": {
   "display_name": "agluon",
   "language": "python",
   "name": "python3"
  },
  "language_info": {
   "codemirror_mode": {
    "name": "ipython",
    "version": 3
   },
   "file_extension": ".py",
   "mimetype": "text/x-python",
   "name": "python",
   "nbconvert_exporter": "python",
   "pygments_lexer": "ipython3",
   "version": "3.11.11"
  }
 },
 "nbformat": 4,
 "nbformat_minor": 5
}

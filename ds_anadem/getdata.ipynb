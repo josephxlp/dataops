{
 "cells": [
  {
   "cell_type": "code",
   "execution_count": 1,
   "id": "d5083365",
   "metadata": {},
   "outputs": [],
   "source": [
    "# make the functions from this and fadem from dataops"
   ]
  },
  {
   "cell_type": "code",
   "execution_count": 4,
   "id": "8fda64fc",
   "metadata": {},
   "outputs": [],
   "source": [
    "import os\n",
    "import requests\n",
    "from concurrent.futures import ThreadPoolExecutor, as_completed\n",
    "from pathlib import Path\n",
    "from typing import List\n",
    "\n",
    "# Configuration\n",
    "DOWNLOAD_DIR = \"downloads\"\n",
    "MAX_WORKERS = 10\n",
    "TIMEOUT = 2000  # seconds\n",
    "\n",
    "def read_urls(file_path: str) -> List[str]:\n",
    "    \"\"\"Read a list of URLs from a text file.\"\"\"\n",
    "    with open(file_path, \"r\") as f:\n",
    "        return [line.strip() for line in f if line.strip()]\n",
    "\n",
    "def download_file(url: str, download_dir: str = DOWNLOAD_DIR) -> str:\n",
    "    \"\"\"Download a single file from a URL.\"\"\"\n",
    "    try:\n",
    "        os.makedirs(download_dir, exist_ok=True)\n",
    "        local_filename = os.path.join(download_dir, os.path.basename(url))\n",
    "\n",
    "        response = requests.get(url, stream=True, timeout=TIMEOUT)\n",
    "        response.raise_for_status()\n",
    "\n",
    "        with open(local_filename, 'wb') as f:\n",
    "            for chunk in response.iter_content(chunk_size=8192):\n",
    "                if chunk:\n",
    "                    f.write(chunk)\n",
    "\n",
    "        return f\"✅ Downloaded: {url}\"\n",
    "    except Exception as e:\n",
    "        return f\"❌ Failed: {url} | Reason: {e}\"\n",
    "\n",
    "def download_all(urls: List[str], download_dir,workers: int = MAX_WORKERS):\n",
    "    \"\"\"Download multiple files in parallel.\"\"\"\n",
    "    with ThreadPoolExecutor(max_workers=workers) as executor:\n",
    "        future_to_url = {executor.submit(download_file, url,download_dir): url for url in urls}\n",
    "        for future in as_completed(future_to_url):\n",
    "            print(future.result())\n",
    "\n",
    "def download_urls_inpar(txt_path,download_dir,workers):\n",
    "    urls = read_urls(txt_path)\n",
    "    if not urls:\n",
    "        print(\"No URLs found.\")\n",
    "        return\n",
    "    print(f\"Starting download of {len(urls)} files...\\n\")\n",
    "    download_all(urls,download_dir,workers)"
   ]
  },
  {
   "cell_type": "code",
   "execution_count": 7,
   "id": "621bc1d0",
   "metadata": {},
   "outputs": [
    {
     "name": "stdout",
     "output_type": "stream",
     "text": [
      "Starting download of 52 files...\n",
      "\n",
      "✅ Downloaded: https://metadados.snirh.gov.br/files/anadem_v1_tiles/anadem_v1_17L.tif\n",
      "✅ Downloaded: https://metadados.snirh.gov.br/files/anadem_v1_tiles/anadem_v1_18K.tif\n",
      "✅ Downloaded: https://metadados.snirh.gov.br/files/anadem_v1_tiles/anadem_v1_18H.tif\n",
      "✅ Downloaded: https://metadados.snirh.gov.br/files/anadem_v1_tiles/anadem_v1_17M.tif\n",
      "✅ Downloaded: https://metadados.snirh.gov.br/files/anadem_v1_tiles/anadem_v1_18P.tif\n",
      "✅ Downloaded: https://metadados.snirh.gov.br/files/anadem_v1_tiles/anadem_v1_17N.tif\n",
      "✅ Downloaded: https://metadados.snirh.gov.br/files/anadem_v1_tiles/anadem_v1_18F.tif\n",
      "✅ Downloaded: https://metadados.snirh.gov.br/files/anadem_v1_tiles/anadem_v1_18G.tif\n",
      "✅ Downloaded: https://metadados.snirh.gov.br/files/anadem_v1_tiles/anadem_v1_18M.tif\n",
      "✅ Downloaded: https://metadados.snirh.gov.br/files/anadem_v1_tiles/anadem_v1_19F.tif\n",
      "✅ Downloaded: https://metadados.snirh.gov.br/files/anadem_v1_tiles/anadem_v1_18L.tif\n",
      "✅ Downloaded: https://metadados.snirh.gov.br/files/anadem_v1_tiles/anadem_v1_18N.tif\n",
      "✅ Downloaded: https://metadados.snirh.gov.br/files/anadem_v1_tiles/anadem_v1_19G.tif\n",
      "✅ Downloaded: https://metadados.snirh.gov.br/files/anadem_v1_tiles/anadem_v1_19P.tif\n",
      "✅ Downloaded: https://metadados.snirh.gov.br/files/anadem_v1_tiles/anadem_v1_19H.tif\n",
      "✅ Downloaded: https://metadados.snirh.gov.br/files/anadem_v1_tiles/anadem_v1_19K.tif\n",
      "✅ Downloaded: https://metadados.snirh.gov.br/files/anadem_v1_tiles/anadem_v1_20G.tif\n",
      "✅ Downloaded: https://metadados.snirh.gov.br/files/anadem_v1_tiles/anadem_v1_19J.tif\n",
      "✅ Downloaded: https://metadados.snirh.gov.br/files/anadem_v1_tiles/anadem_v1_19L.tif\n",
      "✅ Downloaded: https://metadados.snirh.gov.br/files/anadem_v1_tiles/anadem_v1_20F.tif\n",
      "✅ Downloaded: https://metadados.snirh.gov.br/files/anadem_v1_tiles/anadem_v1_19N.tif\n",
      "✅ Downloaded: https://metadados.snirh.gov.br/files/anadem_v1_tiles/anadem_v1_19M.tif\n",
      "✅ Downloaded: https://metadados.snirh.gov.br/files/anadem_v1_tiles/anadem_v1_21F.tif\n",
      "✅ Downloaded: https://metadados.snirh.gov.br/files/anadem_v1_tiles/anadem_v1_20H.tif\n",
      "✅ Downloaded: https://metadados.snirh.gov.br/files/anadem_v1_tiles/anadem_v1_20M.tif\n",
      "✅ Downloaded: https://metadados.snirh.gov.br/files/anadem_v1_tiles/anadem_v1_20J.tif\n",
      "✅ Downloaded: https://metadados.snirh.gov.br/files/anadem_v1_tiles/anadem_v1_20P.tif\n",
      "✅ Downloaded: https://metadados.snirh.gov.br/files/anadem_v1_tiles/anadem_v1_21P.tif\n",
      "✅ Downloaded: https://metadados.snirh.gov.br/files/anadem_v1_tiles/anadem_v1_20N.tif\n",
      "✅ Downloaded: https://metadados.snirh.gov.br/files/anadem_v1_tiles/anadem_v1_21J.tif\n",
      "✅ Downloaded: https://metadados.snirh.gov.br/files/anadem_v1_tiles/anadem_v1_20K.tif\n",
      "✅ Downloaded: https://metadados.snirh.gov.br/files/anadem_v1_tiles/anadem_v1_22H.tif\n",
      "✅ Downloaded: https://metadados.snirh.gov.br/files/anadem_v1_tiles/anadem_v1_20L.tif\n",
      "✅ Downloaded: https://metadados.snirh.gov.br/files/anadem_v1_tiles/anadem_v1_21K.tif\n",
      "✅ Downloaded: https://metadados.snirh.gov.br/files/anadem_v1_tiles/anadem_v1_23J.tif\n",
      "✅ Downloaded: https://metadados.snirh.gov.br/files/anadem_v1_tiles/anadem_v1_21H.tif\n",
      "✅ Downloaded: https://metadados.snirh.gov.br/files/anadem_v1_tiles/anadem_v1_22N.tif\n",
      "✅ Downloaded: https://metadados.snirh.gov.br/files/anadem_v1_tiles/anadem_v1_21L.tif\n",
      "✅ Downloaded: https://metadados.snirh.gov.br/files/anadem_v1_tiles/anadem_v1_21M.tif\n",
      "✅ Downloaded: https://metadados.snirh.gov.br/files/anadem_v1_tiles/anadem_v1_21N.tif\n",
      "✅ Downloaded: https://metadados.snirh.gov.br/files/anadem_v1_tiles/anadem_v1_22J.tif\n",
      "✅ Downloaded: https://metadados.snirh.gov.br/files/anadem_v1_tiles/anadem_v1_22K.tif\n",
      "✅ Downloaded: https://metadados.snirh.gov.br/files/anadem_v1_tiles/anadem_v1_25L.tif\n",
      "✅ Downloaded: https://metadados.snirh.gov.br/files/anadem_v1_tiles/anadem_v1_22M.tif\n",
      "✅ Downloaded: https://metadados.snirh.gov.br/files/anadem_v1_tiles/anadem_v1_25M.tif\n",
      "✅ Downloaded: https://metadados.snirh.gov.br/files/anadem_v1_tiles/anadem_v1_24K.tif\n",
      "✅ Downloaded: https://metadados.snirh.gov.br/files/anadem_v1_tiles/anadem_v1_23L.tif\n",
      "✅ Downloaded: https://metadados.snirh.gov.br/files/anadem_v1_tiles/anadem_v1_23K.tif\n",
      "✅ Downloaded: https://metadados.snirh.gov.br/files/anadem_v1_tiles/anadem_v1_22L.tif\n",
      "✅ Downloaded: https://metadados.snirh.gov.br/files/anadem_v1_tiles/anadem_v1_24M.tif\n",
      "✅ Downloaded: https://metadados.snirh.gov.br/files/anadem_v1_tiles/anadem_v1_23M.tif\n",
      "✅ Downloaded: https://metadados.snirh.gov.br/files/anadem_v1_tiles/anadem_v1_24L.tif\n"
     ]
    }
   ],
   "source": [
    "data_dir = \"/media/ljp238/12TBWolf/ARCHIEVE/ANADEM/data\"\n",
    "txt_path = \"urls.txt\"\n",
    "download_urls_inpar(txt_path=txt_path,download_dir=data_dir,workers=10)"
   ]
  },
  {
   "cell_type": "code",
   "execution_count": 9,
   "id": "c36aa16d",
   "metadata": {},
   "outputs": [],
   "source": [
    "# create VRT and tileindex#\n",
    "gpkg_fn = \"/media/ljp238/12TBWolf/ARCHIEVE/ANADEM/ANADEM_tiles.gpkg\"\n",
    "tif_dir = \"/media/ljp238/12TBWolf/ARCHIEVE/ANADEM/data\""
   ]
  },
  {
   "cell_type": "code",
   "execution_count": 10,
   "id": "3410fd21",
   "metadata": {},
   "outputs": [
    {
     "data": {
      "text/plain": [
       "0"
      ]
     },
     "execution_count": 10,
     "metadata": {},
     "output_type": "execute_result"
    }
   ],
   "source": [
    "cmd = f\"gdaltindex -t_srs EPSG:4326 -f GPKG {gpkg_fn} {tif_dir}/*.tif\"\n",
    "os.system(cmd)"
   ]
  },
  {
   "cell_type": "code",
   "execution_count": 11,
   "id": "63bb6886",
   "metadata": {},
   "outputs": [],
   "source": [
    "import os\n",
    "import subprocess\n",
    "\n",
    "def build_vrt_from_tifs(data_dir, output_vrt, recursive=False):\n",
    "    \"\"\"\n",
    "    Create a VRT file from all .tif files in a given directory using gdalbuildvrt.\n",
    "\n",
    "    Args:\n",
    "        data_dir (str): Path to the directory containing .tif files.\n",
    "        output_vrt (str): Path to the output .vrt file.\n",
    "        recursive (bool): If True, search subdirectories recursively.\n",
    "    \"\"\"\n",
    "    if not os.path.isdir(data_dir):\n",
    "        raise ValueError(f\"Directory does not exist: {data_dir}\")\n",
    "\n",
    "    # Gather all .tif files\n",
    "    tif_files = []\n",
    "    for root, _, files in os.walk(data_dir):\n",
    "        for file in files:\n",
    "            if file.lower().endswith('.tif'):\n",
    "                tif_files.append(os.path.join(root, file))\n",
    "        if not recursive:\n",
    "            break\n",
    "\n",
    "    if not tif_files:\n",
    "        raise RuntimeError(f\"No .tif files found in {data_dir}\")\n",
    "\n",
    "    # Build gdalbuildvrt command\n",
    "    cmd = [\"gdalbuildvrt\", output_vrt] + tif_files\n",
    "\n",
    "    # Run command\n",
    "    try:\n",
    "        subprocess.run(cmd, check=True)\n",
    "        print(f\"VRT created: {output_vrt}\")\n",
    "    except subprocess.CalledProcessError as e:\n",
    "        raise RuntimeError(f\"gdalbuildvrt failed: {e}\")\n"
   ]
  },
  {
   "cell_type": "code",
   "execution_count": 12,
   "id": "cca0cf2d",
   "metadata": {},
   "outputs": [],
   "source": [
    "vrt_fn = \"/media/ljp238/12TBWolf/ARCHIEVE/ANADEM/ANADEM_tiles.vrt\"\n",
    "tif_dir = \"/media/ljp238/12TBWolf/ARCHIEVE/ANADEM/data\""
   ]
  },
  {
   "cell_type": "code",
   "execution_count": 13,
   "id": "ca89e7fa",
   "metadata": {},
   "outputs": [
    {
     "name": "stdout",
     "output_type": "stream",
     "text": [
      "0...10...20...30...40...50...60...70...80...90...100 - done.\n",
      "VRT created: /media/ljp238/12TBWolf/ARCHIEVE/ANADEM/ANADEM_tiles.vrt\n"
     ]
    }
   ],
   "source": [
    "build_vrt_from_tifs(tif_dir, vrt_fn, recursive=True)\n"
   ]
  },
  {
   "cell_type": "code",
   "execution_count": null,
   "id": "83803167",
   "metadata": {},
   "outputs": [],
   "source": []
  }
 ],
 "metadata": {
  "kernelspec": {
   "display_name": "agluon",
   "language": "python",
   "name": "python3"
  },
  "language_info": {
   "codemirror_mode": {
    "name": "ipython",
    "version": 3
   },
   "file_extension": ".py",
   "mimetype": "text/x-python",
   "name": "python",
   "nbconvert_exporter": "python",
   "pygments_lexer": "ipython3",
   "version": "3.11.11"
  }
 },
 "nbformat": 4,
 "nbformat_minor": 5
}

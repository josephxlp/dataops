{
 "cells": [
  {
   "cell_type": "markdown",
   "metadata": {},
   "source": [
    "# Weighted ML internal"
   ]
  },
  {
   "cell_type": "markdown",
   "metadata": {},
   "source": [
    "https://www.jmlr.org/papers/volume25/23-0607/23-0607.pdf\n",
    "\n",
    "https://github.com/XinyuChen-hey/Optimal-Weighted-Random-Forests/tree/main\n",
    "- only in certain conditions, so not worth it for now "
   ]
  },
  {
   "cell_type": "code",
   "execution_count": 2,
   "metadata": {},
   "outputs": [
    {
     "name": "stdout",
     "output_type": "stream",
     "text": [
      "Standard RF MSE: 7734.2107, RMSE: 87.9444, R2: 0.7927\n",
      "1-Step Optimal Weighted RF MSE: 7927.0351, RMSE: 89.0339, R2: 0.7875\n",
      "2-Step Optimal Weighted RF MSE: 7921.9549, RMSE: 89.0054, R2: 0.7876\n"
     ]
    }
   ],
   "source": [
    "import numpy as np\n",
    "from sklearn.ensemble import RandomForestRegressor\n",
    "from sklearn.datasets import make_regression\n",
    "from sklearn.model_selection import train_test_split\n",
    "from sklearn.metrics import mean_squared_error, r2_score\n",
    "from scipy.optimize import minimize\n",
    "\n",
    "# Create dummy regression data\n",
    "X, y = make_regression(n_samples=1000, n_features=20, noise=0.1, random_state=42)\n",
    "X_train, X_temp, y_train, y_temp = train_test_split(X, y, test_size=0.4, random_state=42)\n",
    "X_val, X_test, y_val, y_test = train_test_split(X_temp, y_temp, test_size=0.5, random_state=42)\n",
    "\n",
    "# Train standard Random Forest\n",
    "rf = RandomForestRegressor(n_estimators=100, random_state=42)\n",
    "rf.fit(X_train, y_train)\n",
    "\n",
    "# Get predictions from individual trees on validation set\n",
    "tree_preds = np.array([tree.predict(X_val) for tree in rf.estimators_]).T\n",
    "\n",
    "# Define objective function for optimal weights\n",
    "def objective_1step(weights):\n",
    "    pred = np.dot(tree_preds, weights)\n",
    "    return mean_squared_error(y_val, pred)\n",
    "\n",
    "# Constraints: Weights sum to 1\n",
    "constraints = ({'type': 'eq', 'fun': lambda w: np.sum(w) - 1})\n",
    "\n",
    "# Bounds: Weights between 0 and 1\n",
    "bounds = [(0, 1)] * rf.n_estimators\n",
    "\n",
    "# 1-Step Optimal Weighting\n",
    "initial_weights = np.ones(rf.n_estimators) / rf.n_estimators\n",
    "result_1step = minimize(objective_1step, initial_weights, bounds=bounds, constraints=constraints)\n",
    "optimal_weights_1step = result_1step.x\n",
    "\n",
    "# 2-Step Optimal Weighting (Refine based on 1-Step result)\n",
    "def objective_2step(weights):\n",
    "    pred = np.dot(tree_preds, weights)\n",
    "    return mean_squared_error(y_val, pred)\n",
    "\n",
    "result_2step = minimize(objective_2step, optimal_weights_1step, bounds=bounds, constraints=constraints)\n",
    "optimal_weights_2step = result_2step.x\n",
    "\n",
    "# Predictions with optimal weights\n",
    "final_tree_preds = np.array([tree.predict(X_test) for tree in rf.estimators_]).T\n",
    "\n",
    "# Evaluate standard RF\n",
    "rf_pred = rf.predict(X_test)\n",
    "rf_mse = mean_squared_error(y_test, rf_pred)\n",
    "rf_rmse = np.sqrt(rf_mse)\n",
    "rf_r2 = r2_score(y_test, rf_pred)\n",
    "\n",
    "# Evaluate 1-Step Weighted RF\n",
    "weighted_pred_1step = np.dot(final_tree_preds, optimal_weights_1step)\n",
    "weighted_mse_1step = mean_squared_error(y_test, weighted_pred_1step)\n",
    "weighted_rmse_1step = np.sqrt(weighted_mse_1step)\n",
    "weighted_r2_1step = r2_score(y_test, weighted_pred_1step)\n",
    "\n",
    "# Evaluate 2-Step Weighted RF\n",
    "weighted_pred_2step = np.dot(final_tree_preds, optimal_weights_2step)\n",
    "weighted_mse_2step = mean_squared_error(y_test, weighted_pred_2step)\n",
    "weighted_rmse_2step = np.sqrt(weighted_mse_2step)\n",
    "weighted_r2_2step = r2_score(y_test, weighted_pred_2step)\n",
    "\n",
    "# Print results\n",
    "print(f\"Standard RF MSE: {rf_mse:.4f}, RMSE: {rf_rmse:.4f}, R2: {rf_r2:.4f}\")\n",
    "print(f\"1-Step Optimal Weighted RF MSE: {weighted_mse_1step:.4f}, RMSE: {weighted_rmse_1step:.4f}, R2: {weighted_r2_1step:.4f}\")\n",
    "print(f\"2-Step Optimal Weighted RF MSE: {weighted_mse_2step:.4f}, RMSE: {weighted_rmse_2step:.4f}, R2: {weighted_r2_2step:.4f}\")\n"
   ]
  },
  {
   "cell_type": "code",
   "execution_count": null,
   "metadata": {},
   "outputs": [],
   "source": []
  }
 ],
 "metadata": {
  "kernelspec": {
   "display_name": "agluon",
   "language": "python",
   "name": "python3"
  },
  "language_info": {
   "codemirror_mode": {
    "name": "ipython",
    "version": 3
   },
   "file_extension": ".py",
   "mimetype": "text/x-python",
   "name": "python",
   "nbconvert_exporter": "python",
   "pygments_lexer": "ipython3",
   "version": "3.11.11"
  }
 },
 "nbformat": 4,
 "nbformat_minor": 2
}

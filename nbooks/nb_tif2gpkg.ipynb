{
 "cells": [
  {
   "cell_type": "code",
   "execution_count": 34,
   "metadata": {},
   "outputs": [],
   "source": [
    "from glob import glob \n",
    "import os \n",
    "import time\n",
    "import geopandas as gpd\n",
    "from os.path import basename, join\n",
    "from concurrent.futures import ProcessPoolExecutor"
   ]
  },
  {
   "cell_type": "code",
   "execution_count": 35,
   "metadata": {},
   "outputs": [],
   "source": [
    "def tiff2vector(tif,figpkg,fogpkg):\n",
    "    gdal_polygonize(tif, figpkg)\n",
    "    polygonize_to_cutline(figpkg, fogpkg)\n",
    "\n",
    "def gdal_polygonize(tif, gpkg):\n",
    "    if not os.path.isfile(gpkg):\n",
    "        t1 = time.time()\n",
    "        cmd_polygonize = f\"gdal_polygonize.py -overwrite {tif} -f GPKG {gpkg}\"\n",
    "        os.system(cmd_polygonize)\n",
    "        t2 = time.time()\n",
    "        print(f\"time cmd_outline:{t2-t1}\")\n",
    "        print(f\"Polygon gdal_polygonize saved to {gpkg}\")\n",
    "    else:\n",
    "        print(f\"file areaddy created {gpkg}\")\n",
    "    print('gdal_polygonize')\n",
    "\n",
    "\n",
    "def polygonize_to_cutline(figpkg, fogpkg):\n",
    "    if not os.path.isfile(fogpkg):\n",
    "        t1 = time.time()\n",
    "        print('reading...')\n",
    "        gdf = gpd.read_file(figpkg)\n",
    "        print('dissolving...')\n",
    "        diss = gdf.dissolve()\n",
    "        print('writting...')\n",
    "        diss.to_file(fogpkg, driver=\"GPKG\")\n",
    "        t2 = time.time()\n",
    "        print(f\"time polygonize_to_cutline:{t2-t1}\")\n",
    "        print(f\"Outline file  saved to {fogpkg}\")\n",
    "    else:\n",
    "        print(f\"file areaddy created {fogpkg}\")\n",
    "    print('polygonize_to_cutline')\n"
   ]
  },
  {
   "cell_type": "code",
   "execution_count": 40,
   "metadata": {},
   "outputs": [],
   "source": [
    "cutline_dir = \"/media/ljp238/12TBWolf/BRCHIEVE/REFERENCE_DEM/cutline\"\n",
    "tls_fn = \"/media/ljp238/12TBWolf/ARCHIEVE/LIDAR_DTM/AngorW/TLSLidarDEM/AngkorDTM50cm.tif\"\n",
    "mkd_fn = \"/media/ljp238/12TBWolf/ARCHIEVE/LIDAR_DTM/Mekong/delta_s_m2070.tif\"\n",
    "pband_fn = \"/media/ljp238/12TBWolf/ARCHIEVE/PBAND_DTM/RNG/NegroAOIDTM.tif\"\n",
    "rng_path = \"/media/ljp238/12TBWolf/ARCHIEVE/LIDAR_DTM/RNG_OverlapPatchesLiDAR/\"\n",
    "rng_files = glob(f\"{rng_path}/*.tif\")\n",
    "files = rng_files + [tls_fn,mkd_fn, pband_fn]\n",
    "files = rng_files + [tls_fn, mkd_fn, pband_fn]\n",
    "os.makedirs(cutline_dir, exist_ok=True)\n",
    "#tif = files[0]"
   ]
  },
  {
   "cell_type": "code",
   "execution_count": null,
   "metadata": {},
   "outputs": [],
   "source": [
    "with ProcessPoolExecutor() as pex:\n",
    "    for tif in files:\n",
    "        figpkg = join(cutline_dir,basename(tif).replace('.tif', '_poly.gpkg'))\n",
    "        fogpkg = join(cutline_dir,basename(tif).replace('.tif', '_diss.gpkg'))\n",
    "        pex.submit(tiff2vector, tif,figpkg,fogpkg)\n",
    "    #tiff2vector(tif,figpkg,fogpkg)"
   ]
  },
  {
   "cell_type": "code",
   "execution_count": null,
   "metadata": {},
   "outputs": [],
   "source": [
    "\n"
   ]
  },
  {
   "cell_type": "code",
   "execution_count": null,
   "metadata": {},
   "outputs": [],
   "source": []
  },
  {
   "cell_type": "code",
   "execution_count": null,
   "metadata": {},
   "outputs": [],
   "source": []
  },
  {
   "cell_type": "code",
   "execution_count": null,
   "metadata": {},
   "outputs": [],
   "source": []
  },
  {
   "cell_type": "code",
   "execution_count": 30,
   "metadata": {},
   "outputs": [],
   "source": [
    "def gdal_polygonize(tif, gpkg):\n",
    "    if not os.path.isfile(gpkg):\n",
    "        t1 = time.time()\n",
    "        cmd_polygonize = f\"gdal_polygonize.py -overwrite {tif} -f GPKG {gpkg}\"\n",
    "        os.system(cmd_polygonize)\n",
    "        t2 = time.time()\n",
    "        print(f\"time cmd_outline:{t2-t1}\")\n",
    "        print(f\"Polygon gdal_polygonize saved to {gpkg}\")\n",
    "    else:\n",
    "        print(f\"file areaddy created {gpkg}\")\n",
    "    print('gdal_polygonize')\n",
    "\n",
    "\n",
    "def polygonize_to_cutline(figpkg, fogpkg):\n",
    "    if not os.path.isfile(fogpkg):\n",
    "        t1 = time.time()\n",
    "        print('reading...')\n",
    "        gdf = gpd.read_file(figpkg)\n",
    "        print('dissolving...')\n",
    "        diss = gdf.dissolve()\n",
    "        print('writting...')\n",
    "        diss.to_file(fogpkg, driver=\"GPKG\")\n",
    "        t2 = time.time()\n",
    "        print(f\"time polygonize_to_cutline:{t2-t1}\")\n",
    "        print(f\"Outline file  saved to {fogpkg}\")\n",
    "    else:\n",
    "        print(f\"file areaddy created {fogpkg}\")\n",
    "    print('polygonize_to_cutline')\n"
   ]
  },
  {
   "cell_type": "code",
   "execution_count": null,
   "metadata": {},
   "outputs": [],
   "source": []
  },
  {
   "cell_type": "code",
   "execution_count": 9,
   "metadata": {},
   "outputs": [
    {
     "name": "stdout",
     "output_type": "stream",
     "text": [
      "Creating output DTM_NP_T-0007_p.gpkg of format GPKG.\n",
      "0...10...20...30...40...50...60...70...80...90...100 - done.\n",
      "Time for gdal_polygonize: 5.01 seconds\n",
      "Polygonized data saved to DTM_NP_T-0007_p.gpkg\n",
      "Time for merging polygons: 0.07 seconds\n",
      "Merged geometry saved to DTM_NP_T-0007m_.gpkg\n",
      "Time for extracting outline: 0.06 seconds\n",
      "Polygon outline saved to DTM_NP_T-0007o.gpkg\n"
     ]
    },
    {
     "name": "stderr",
     "output_type": "stream",
     "text": [
      "ERROR 1: In ExecuteSQL(): sqlite3_prepare_v2(SELECT ST_Union(geometry) AS geometry FROM output):\n",
      "  no such table: output\n",
      "ERROR 1: Unable to open datasource `DTM_NP_T-0007m_.gpkg' with the following drivers.\n",
      "  -> `PCIDSK'\n",
      "  -> `PDS4'\n",
      "  -> `VICAR'\n",
      "  -> `MBTiles'\n",
      "  -> `EEDA'\n",
      "  -> `OGCAPI'\n",
      "  -> `ESRI Shapefile'\n",
      "  -> `MapInfo File'\n",
      "  -> `UK .NTF'\n",
      "  -> `LVBAG'\n",
      "  -> `OGR_SDTS'\n",
      "  -> `S57'\n",
      "  -> `DGN'\n",
      "  -> `OGR_VRT'\n",
      "  -> `Memory'\n",
      "  -> `CSV'\n",
      "  -> `NAS'\n",
      "  -> `GML'\n",
      "  -> `GPX'\n",
      "  -> `LIBKML'\n",
      "  -> `KML'\n",
      "  -> `GeoJSON'\n",
      "  -> `GeoJSONSeq'\n",
      "  -> `ESRIJSON'\n",
      "  -> `TopoJSON'\n",
      "  -> `Interlis 1'\n",
      "  -> `Interlis 2'\n",
      "  -> `OGR_GMT'\n",
      "  -> `GPKG'\n",
      "  -> `SQLite'\n",
      "  -> `WAsP'\n",
      "  -> `OpenFileGDB'\n",
      "  -> `DXF'\n",
      "  -> `CAD'\n",
      "  -> `FlatGeobuf'\n",
      "  -> `Geoconcept'\n",
      "  -> `GeoRSS'\n",
      "  -> `VFK'\n",
      "  -> `PGDUMP'\n",
      "  -> `OSM'\n",
      "  -> `GPSBabel'\n",
      "  -> `OGR_PDS'\n",
      "  -> `WFS'\n",
      "  -> `OAPIF'\n",
      "  -> `EDIGEO'\n",
      "  -> `SVG'\n",
      "  -> `Idrisi'\n",
      "  -> `ODS'\n",
      "  -> `XLSX'\n",
      "  -> `Elasticsearch'\n",
      "  -> `Carto'\n",
      "  -> `AmigoCloud'\n",
      "  -> `SXF'\n",
      "  -> `Selafin'\n",
      "  -> `JML'\n",
      "  -> `PLSCENES'\n",
      "  -> `CSW'\n",
      "  -> `VDV'\n",
      "  -> `GMLAS'\n",
      "  -> `MVT'\n",
      "  -> `NGW'\n",
      "  -> `MapML'\n",
      "  -> `GTFS'\n",
      "  -> `PMTiles'\n",
      "  -> `JSONFG'\n",
      "  -> `MiraMonVector'\n",
      "  -> `TIGER'\n",
      "  -> `AVCBin'\n",
      "  -> `AVCE00'\n",
      "  -> `HTTP'\n"
     ]
    }
   ],
   "source": [
    "import os\n",
    "import time\n",
    "\n",
    "# Step 1: Define input and output paths\n",
    "files = rng_files + [tls_fn, mkd_fn, pband_fn]\n",
    "input_tif = files[0]\n",
    "output_gpkg = os.path.basename(input_tif).replace('.tif', '_p.gpkg')\n",
    "merged_gpkg = os.path.basename(input_tif).replace('.tif', 'm_.gpkg')\n",
    "outline_gpkg = os.path.basename(input_tif).replace('.tif', 'o.gpkg')\n",
    "\n",
    "# Step 2: Run gdal_polygonize.py to convert raster to vector polygons\n",
    "t1 = time.time()\n",
    "cmd_polygonize = f\"gdal_polygonize.py -overwrite {input_tif} -f GPKG {output_gpkg}\"\n",
    "os.system(cmd_polygonize)\n",
    "t2 = time.time()\n",
    "print(f\"Time for gdal_polygonize: {t2 - t1:.2f} seconds\")\n",
    "print(f\"Polygonized data saved to {output_gpkg}\")\n",
    "\n",
    "# Step 3: Merge all polygons into a single geometry using ogr2ogr\n",
    "cmd_merge = f\"ogr2ogr -f GPKG {merged_gpkg} {output_gpkg} -dialect SQLITE -sql \\\"SELECT ST_Union(geometry) AS geometry FROM output\\\"\"\n",
    "os.system(cmd_merge)\n",
    "t3 = time.time()\n",
    "print(f\"Time for merging polygons: {t3 - t2:.2f} seconds\")\n",
    "print(f\"Merged geometry saved to {merged_gpkg}\")\n",
    "\n",
    "# Step 4: Extract the boundary of the merged geometry\n",
    "cmd_outline = f\"ogr2ogr -f GPKG {outline_gpkg} {merged_gpkg} -nlt MULTILINESTRING -sql \\\"SELECT ST_Boundary(geometry) AS geometry FROM merged\\\"\"\n",
    "os.system(cmd_outline)\n",
    "t4 = time.time()\n",
    "print(f\"Time for extracting outline: {t4 - t3:.2f} seconds\")\n",
    "print(f\"Polygon outline saved to {outline_gpkg}\")"
   ]
  },
  {
   "cell_type": "code",
   "execution_count": null,
   "metadata": {},
   "outputs": [],
   "source": [
    "import geopandas as gpd\n",
    "gdf = gpd.read_file(output_gpkg)\n",
    "dis = gdf.dissolve()\n",
    "dis.to_file(outline_gpkg, driver=\"GPKG\")"
   ]
  },
  {
   "cell_type": "code",
   "execution_count": null,
   "metadata": {},
   "outputs": [],
   "source": []
  },
  {
   "cell_type": "code",
   "execution_count": null,
   "metadata": {},
   "outputs": [],
   "source": []
  },
  {
   "cell_type": "code",
   "execution_count": 20,
   "metadata": {},
   "outputs": [
    {
     "data": {
      "text/html": [
       "<div>\n",
       "<style scoped>\n",
       "    .dataframe tbody tr th:only-of-type {\n",
       "        vertical-align: middle;\n",
       "    }\n",
       "\n",
       "    .dataframe tbody tr th {\n",
       "        vertical-align: top;\n",
       "    }\n",
       "\n",
       "    .dataframe thead th {\n",
       "        text-align: right;\n",
       "    }\n",
       "</style>\n",
       "<table border=\"1\" class=\"dataframe\">\n",
       "  <thead>\n",
       "    <tr style=\"text-align: right;\">\n",
       "      <th></th>\n",
       "      <th>geometry</th>\n",
       "      <th>DN</th>\n",
       "    </tr>\n",
       "  </thead>\n",
       "  <tbody>\n",
       "    <tr>\n",
       "      <th>0</th>\n",
       "      <td>POLYGON ((526461 9977822, 526461 9977823, 5264...</td>\n",
       "      <td>28</td>\n",
       "    </tr>\n",
       "  </tbody>\n",
       "</table>\n",
       "</div>"
      ],
      "text/plain": [
       "                                            geometry  DN\n",
       "0  POLYGON ((526461 9977822, 526461 9977823, 5264...  28"
      ]
     },
     "execution_count": 20,
     "metadata": {},
     "output_type": "execute_result"
    }
   ],
   "source": [
    "dis"
   ]
  },
  {
   "cell_type": "code",
   "execution_count": null,
   "metadata": {},
   "outputs": [],
   "source": []
  },
  {
   "cell_type": "code",
   "execution_count": 22,
   "metadata": {},
   "outputs": [
    {
     "data": {
      "text/plain": [
       "'DTM_NP_T-0007o.gpkg'"
      ]
     },
     "execution_count": 22,
     "metadata": {},
     "output_type": "execute_result"
    }
   ],
   "source": [
    "outline_gpkg"
   ]
  },
  {
   "cell_type": "code",
   "execution_count": 14,
   "metadata": {},
   "outputs": [
    {
     "data": {
      "text/plain": [
       "geopandas.geodataframe.GeoDataFrame"
      ]
     },
     "execution_count": 14,
     "metadata": {},
     "output_type": "execute_result"
    }
   ],
   "source": [
    "type(gdf)"
   ]
  },
  {
   "cell_type": "code",
   "execution_count": 15,
   "metadata": {},
   "outputs": [],
   "source": [
    "# compare the polygonize and the raster values df: shape, values"
   ]
  },
  {
   "cell_type": "code",
   "execution_count": 16,
   "metadata": {},
   "outputs": [],
   "source": [
    "gdf = gdf.buffer(0)"
   ]
  },
  {
   "cell_type": "code",
   "execution_count": null,
   "metadata": {},
   "outputs": [
    {
     "data": {
      "text/plain": [
       "0         POLYGON ((526595 9978356, 526596 9978356, 5265...\n",
       "1         POLYGON ((526635 9978355, 526637 9978355, 5266...\n",
       "2         POLYGON ((526591 9978352, 526592 9978352, 5265...\n",
       "3         POLYGON ((526650 9978351, 526654 9978351, 5266...\n",
       "4         POLYGON ((526657 9978348, 526660 9978348, 5266...\n",
       "                                ...                        \n",
       "128160    POLYGON ((540929 9973495, 540930 9973495, 5409...\n",
       "128161    POLYGON ((540917 9973484, 540918 9973484, 5409...\n",
       "128162    POLYGON ((536014 9975544, 536016 9975544, 5360...\n",
       "128163    POLYGON ((540919 9973486, 540920 9973486, 5409...\n",
       "128164    POLYGON ((540922 9973481, 540923 9973481, 5409...\n",
       "Length: 128165, dtype: geometry"
      ]
     },
     "execution_count": 17,
     "metadata": {},
     "output_type": "execute_result"
    }
   ],
   "source": [
    "gdf.diss"
   ]
  },
  {
   "cell_type": "code",
   "execution_count": null,
   "metadata": {},
   "outputs": [],
   "source": []
  }
 ],
 "metadata": {
  "kernelspec": {
   "display_name": "agluon",
   "language": "python",
   "name": "python3"
  },
  "language_info": {
   "codemirror_mode": {
    "name": "ipython",
    "version": 3
   },
   "file_extension": ".py",
   "mimetype": "text/x-python",
   "name": "python",
   "nbconvert_exporter": "python",
   "pygments_lexer": "ipython3",
   "version": "3.11.11"
  }
 },
 "nbformat": 4,
 "nbformat_minor": 2
}

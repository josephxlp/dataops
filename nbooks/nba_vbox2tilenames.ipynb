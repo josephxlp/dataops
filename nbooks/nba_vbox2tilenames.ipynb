{
 "cells": [
  {
   "cell_type": "code",
   "execution_count": 3,
   "id": "eb1f30e1",
   "metadata": {},
   "outputs": [],
   "source": [
    "import os\n",
    "from uvars import dataops_dir\n",
    "import sys \n",
    "sys.path.append(dataops_dir)\n",
    "from dataops import tileops\n",
    "from glob import glob"
   ]
  },
  {
   "cell_type": "code",
   "execution_count": 4,
   "id": "d4a36208",
   "metadata": {},
   "outputs": [],
   "source": [
    "vpath = \"/home/ljp238/Downloads/BLOCKsV/SA.gpkg\"\n",
    "gridpath = \"/home/ljp238/Downloads/FABDEM_v1-2_tiles.geojson\"\n",
    "gee_download_path = \"/media/ljp238/12TBWolf/ARCHIEVE/GEEDownload/\"\n",
    "ps = 256\n",
    "st = 256\n",
    "cpus = 20"
   ]
  },
  {
   "cell_type": "code",
   "execution_count": 5,
   "id": "9f7f3788",
   "metadata": {},
   "outputs": [],
   "source": [
    "# utilenames, utilebboxs, xgdf = tileops.get_tilenames_from_global_grid_vector(vpath, gridpath)\n",
    "# print(\"Tile names:\", len(utilenames))"
   ]
  },
  {
   "cell_type": "code",
   "execution_count": 11,
   "id": "b1da619c",
   "metadata": {},
   "outputs": [],
   "source": [
    "from tqdm import tqdm"
   ]
  },
  {
   "cell_type": "code",
   "execution_count": 12,
   "id": "f1dfeb3b",
   "metadata": {},
   "outputs": [],
   "source": [
    "def create_patches_from_vblock_pipeline(gee_download_path, vpath, gridpath, ps=256, st=256, cpus=20):\n",
    "    utilenames, utilebboxs, xgdf = tileops.get_tilenames_from_global_grid_vector(vpath, gridpath)\n",
    "    print(\"Tile names:\", len(utilenames))\n",
    "\n",
    "    gpkg_block_dir = os.path.join(gee_download_path, \"SA\", \"GPKG\")\n",
    "    tif_block_dir = os.path.join(gee_download_path, \"SA\", \"TIF\")\n",
    "    os.makedirs(gpkg_block_dir, exist_ok=True)\n",
    "    os.makedirs(tif_block_dir, exist_ok=True)\n",
    "\n",
    "    # Step 1: Create GPKGs\n",
    "    outputs = tileops.processing_inpar(xgdf, utilenames, gpkg_block_dir, max_workers=cpus)\n",
    "    gpkg_files = glob(f\"{gpkg_block_dir}/*/*.gpkg\")\n",
    "    print(\"Total GPKG files created:\", len(gpkg_files))\n",
    "\n",
    "    # Step 2: Create Dummy TIFs\n",
    "    dummy_tifs = tileops.create_dummy_rasters_inpar(gpkg_files, tif_block_dir, num_workers=cpus)\n",
    "\n",
    "    # Step 3: Patchify each TIF with a progress bar\n",
    "    for tifi in tqdm(dummy_tifs, desc=\"Processing TIFs with patchify_workflow\"):\n",
    "        tileops.patchify_workflow(tifi, ps, st, cpus=cpus)"
   ]
  },
  {
   "cell_type": "code",
   "execution_count": 13,
   "id": "a078345d",
   "metadata": {},
   "outputs": [
    {
     "name": "stdout",
     "output_type": "stream",
     "text": [
      "Tile names: 1855\n"
     ]
    },
    {
     "name": "stderr",
     "output_type": "stream",
     "text": [
      "Processing tiles (Parallel): 100%|██████████| 1855/1855 [00:00<00:00, 5961.26it/s]\n"
     ]
    },
    {
     "name": "stdout",
     "output_type": "stream",
     "text": [
      "Total GPKG files created: 1855\n"
     ]
    },
    {
     "name": "stderr",
     "output_type": "stream",
     "text": [
      "Creating dummy rasters (Parallel): 100%|██████████| 1855/1855 [00:00<00:00, 7112.60it/s]\n",
      "Processing TIFs with patchify_workflow: 100%|██████████| 1855/1855 [2:16:13<00:00,  4.41s/it]  \n"
     ]
    }
   ],
   "source": [
    "create_patches_from_vblock_pipeline(gee_download_path=gee_download_path,\n",
    "                                    vpath=vpath,gridpath=gridpath,\n",
    "                                    ps=ps,st=st,cpus=cpus)"
   ]
  },
  {
   "cell_type": "code",
   "execution_count": null,
   "id": "41228196",
   "metadata": {},
   "outputs": [],
   "source": [
    "\n"
   ]
  }
 ],
 "metadata": {
  "kernelspec": {
   "display_name": "agluon",
   "language": "python",
   "name": "python3"
  },
  "language_info": {
   "codemirror_mode": {
    "name": "ipython",
    "version": 3
   },
   "file_extension": ".py",
   "mimetype": "text/x-python",
   "name": "python",
   "nbconvert_exporter": "python",
   "pygments_lexer": "ipython3",
   "version": "3.11.11"
  }
 },
 "nbformat": 4,
 "nbformat_minor": 5
}

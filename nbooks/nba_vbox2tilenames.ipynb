{
 "cells": [
  {
   "cell_type": "code",
   "execution_count": 3,
   "id": "eb1f30e1",
   "metadata": {},
   "outputs": [],
   "source": [
    "import os\n",
    "from uvars import dataops_dir\n",
    "import sys \n",
    "sys.path.append(dataops_dir)\n",
    "from dataops import tileops\n",
    "from glob import glob"
   ]
  },
  {
   "cell_type": "code",
   "execution_count": 4,
   "id": "d4a36208",
   "metadata": {},
   "outputs": [],
   "source": [
    "vpath = \"/home/ljp238/Downloads/BLOCKsV/SA.gpkg\"\n",
    "gridpath = \"/home/ljp238/Downloads/FABDEM_v1-2_tiles.geojson\"\n",
    "gee_download_path = \"/media/ljp238/12TBWolf/ARCHIEVE/GEEDownload/\"\n",
    "ps = 256\n",
    "st = 256\n",
    "cpus = 20"
   ]
  },
  {
   "cell_type": "code",
   "execution_count": 5,
   "id": "9f7f3788",
   "metadata": {},
   "outputs": [],
   "source": [
    "# utilenames, utilebboxs, xgdf = tileops.get_tilenames_from_global_grid_vector(vpath, gridpath)\n",
    "# print(\"Tile names:\", len(utilenames))"
   ]
  },
  {
   "cell_type": "code",

   "execution_count": 6,
   "id": "465d6d46",
   "metadata": {},
   "outputs": [],
   "source": [
    "def create_patches_from_vblock_pipeline(gee_download_path,vpath,gridpath,ps=256,st=256,cpus=20):\n",
    "\n",
    "    utilenames, utilebboxs, xgdf = tileops.get_tilenames_from_global_grid_vector(vpath, gridpath)\n",
    "    print(\"Tile names:\", len(utilenames))\n",
    "\n",
    "    gpkg_block_dir = os.path.join(gee_download_path, \"SA\", \"GPKG\")#\n",
    "    tif_block_dir = os.path.join(gee_download_path, \"SA\", \"TIF\")#\n",
    "    os.makedirs(gpkg_block_dir, exist_ok=True)\n",
    "    os.makedirs(tif_block_dir, exist_ok=True)\n",
    "    outputs = tileops.processing_inpar(xgdf, utilenames, gpkg_block_dir, max_workers=cpus)\n",
    "    gpkg_files = glob(f\"{gpkg_block_dir}/*/*.gpkg\")\n",
    "    print(\"Total GPKG files created:\", len(gpkg_files))\n",
    "    # dummy_tifs = create_dummy_rasters_inseq(vfiles, geepathes_dir)\n",
    "    dummy_tifs = tileops.create_dummy_rasters_inpar(gpkg_files, tif_block_dir, num_workers=cpus)\n",
    "\n",
    "    for tifi in dummy_tifs:\n",
    "        print(\"Processing TIF:\", tifi)\n",
    "        tileops.patchify_workflow(tifi,ps,st,cpus=cpus)\n",
    "\n",
    "\n"
   ]
  },
  {
   "cell_type": "code",

   "execution_count": 11,
   "id": "b1da619c",
   "metadata": {},
   "outputs": [],
   "source": [
    "from tqdm import tqdm"
   ]
  },
  {
   "cell_type": "code",
   "execution_count": 12,
   "id": "f1dfeb3b",
   "metadata": {},
   "outputs": [],
   "source": [
    "def create_patches_from_vblock_pipeline(gee_download_path, vpath, gridpath, ps=256, st=256, cpus=20):\n",
    "    utilenames, utilebboxs, xgdf = tileops.get_tilenames_from_global_grid_vector(vpath, gridpath)\n",
    "    print(\"Tile names:\", len(utilenames))\n",
    "\n",
    "    gpkg_block_dir = os.path.join(gee_download_path, \"SA\", \"GPKG\")\n",
    "    tif_block_dir = os.path.join(gee_download_path, \"SA\", \"TIF\")\n",
    "    os.makedirs(gpkg_block_dir, exist_ok=True)\n",
    "    os.makedirs(tif_block_dir, exist_ok=True)\n",
    "\n",
    "    # Step 1: Create GPKGs\n",
    "    outputs = tileops.processing_inpar(xgdf, utilenames, gpkg_block_dir, max_workers=cpus)\n",
    "    gpkg_files = glob(f\"{gpkg_block_dir}/*/*.gpkg\")\n",
    "    print(\"Total GPKG files created:\", len(gpkg_files))\n",
    "\n",
    "    # Step 2: Create Dummy TIFs\n",
    "    dummy_tifs = tileops.create_dummy_rasters_inpar(gpkg_files, tif_block_dir, num_workers=cpus)\n",
    "\n",
    "    # Step 3: Patchify each TIF with a progress bar\n",
    "    for tifi in tqdm(dummy_tifs, desc=\"Processing TIFs with patchify_workflow\"):\n",
    "        tileops.patchify_workflow(tifi, ps, st, cpus=cpus)"
   ]
  },
  {
   "cell_type": "code",
   "execution_count": 13,

   "id": "a078345d",
   "metadata": {},
   "outputs": [
    {
     "name": "stdout",
     "output_type": "stream",
     "text": [
      "Tile names: 1855\n"
     ]
    },
    {
     "name": "stderr",
     "output_type": "stream",
     "text": [
      "Processing tiles (Parallel): 100%|██████████| 1855/1855 [00:00<00:00, 5961.26it/s]\n"
     ]
    },
    {
     "name": "stdout",
     "output_type": "stream",
     "text": [
      "Total GPKG files created: 1855\n"
     ]
    },
    {
     "name": "stderr",
     "output_type": "stream",
     "text": [
      "Creating dummy rasters (Parallel): 100%|██████████| 1855/1855 [00:00<00:00, 7112.60it/s]\n",
      "Processing TIFs with patchify_workflow: 100%|██████████| 1855/1855 [2:16:13<00:00,  4.41s/it]  \n"
     ]
    }
   ],
   "source": [
    "create_patches_from_vblock_pipeline(gee_download_path=gee_download_path,\n",
    "                                    vpath=vpath,gridpath=gridpath,\n",
    "                                    ps=ps,st=st,cpus=cpus)"
   ]
  },
  {
   "cell_type": "code",
   "execution_count": null,
   "id": "41228196",
   "metadata": {},
   "outputs": [],
   "source": [
    "\n"
   ]

  },
  {
   "cell_type": "code",
   "execution_count": 21,
   "id": "e69a3fb7",
   "metadata": {},
   "outputs": [],
   "source": [
    "import os\n",
    "import geopandas as gpd\n",
    "from concurrent.futures import ThreadPoolExecutor, as_completed\n",
    "from tqdm import tqdm\n",
    "\n",
    "# --- Base function to process a single tile ---\n",
    "def process_single_tile(xgdf, tilename, gpkg_block_dir):\n",
    "    patches_tile_dir = os.path.join(gpkg_block_dir, tilename)\n",
    "    os.makedirs(patches_tile_dir, exist_ok=True)\n",
    "    tile_gpkg = os.path.join(patches_tile_dir, f\"{tilename}.gpkg\")\n",
    "    \n",
    "    if os.path.isfile(tile_gpkg):\n",
    "        # File already exists, skip\n",
    "        return \"skipped\", tile_gpkg\n",
    "    \n",
    "    # Otherwise, create the GPKG\n",
    "    subgdf = xgdf[xgdf['tile_name'] == tilename][['tile_name', 'geometry']]\n",
    "    subgdf.to_file(tile_gpkg, driver=\"GPKG\")\n",
    "    return \"written\", tile_gpkg\n",
    "\n",
    "# --- Sequential processing with progress bar ---\n",
    "def processing_inseq(xgdf, utilenames, gpkg_block_dir):\n",
    "    outputs = []\n",
    "    for tilename in tqdm(utilenames, desc=\"Processing tiles (Sequential)\"):\n",
    "        status, output = process_single_tile(xgdf, tilename, gpkg_block_dir)\n",
    "        outputs.append((status, output))\n",
    "    return outputs\n",
    "\n",
    "# --- Parallel processing with progress bar ---\n",
    "def processing_inpar(xgdf, utilenames, gpkg_block_dir, max_workers=4):\n",
    "    outputs = []\n",
    "    with ThreadPoolExecutor(max_workers=max_workers) as executor:\n",
    "        futures = {executor.submit(process_single_tile, xgdf, tilename, gpkg_block_dir): tilename for tilename in utilenames}\n",
    "        for future in tqdm(as_completed(futures), total=len(futures), desc=\"Processing tiles (Parallel)\"):\n",
    "            status, output = future.result()\n",
    "            outputs.append((status, output))\n",
    "    return outputs\n"
   ]
  },
  {
   "cell_type": "code",
   "execution_count": null,
   "id": "669f97dc",
   "metadata": {},
   "outputs": [],
   "source": []
  },
  {
   "cell_type": "code",
   "execution_count": 33,
   "id": "732df57c",
   "metadata": {},
   "outputs": [],
   "source": [
    "import os\n",
    "import numpy as np\n",
    "import geopandas as gpd\n",
    "import rasterio\n",
    "from rasterio.transform import from_origin\n",
    "from multiprocessing import Pool\n",
    "from tqdm import tqdm\n",
    "from typing import List, Tuple\n",
    "\n",
    "# --- Helper: Get raster properties from vector ---\n",
    "def vector2raster_properties(vpath: str, epsg: int = 4326, res: float = 1/3600) -> Tuple[int, int, rasterio.transform.Affine]:\n",
    "    vector = gpd.read_file(vpath)\n",
    "    bbox = vector.total_bounds  # [minx, miny, maxx, maxy]\n",
    "    width = int((bbox[2] - bbox[0]) / res) + 1\n",
    "    height = int((bbox[3] - bbox[1]) / res) + 1\n",
    "    transform = from_origin(bbox[0], bbox[3], res, res)\n",
    "    return width, height, transform\n",
    "\n",
    "# --- Helper: Create a dummy raster ---\n",
    "def make_dummy_raster(vpath: str, rpath: str, epsg: int = 4326, res: float = 1/3600) -> None:\n",
    "    width, height, transform = vector2raster_properties(vpath, epsg=epsg, res=res)\n",
    "    with rasterio.open(\n",
    "        rpath, 'w', driver='GTiff', height=height, width=width,\n",
    "        count=1, dtype='uint8', crs=f\"EPSG:{epsg}\", transform=transform,\n",
    "        compress='lzw'\n",
    "    ) as dst:\n",
    "        random_data = np.random.choice([0, 1], size=(height, width), p=[0.5, 0.5])\n",
    "        dst.write(random_data.astype('uint8'), 1)\n",
    "\n",
    "# --- Helper: Process one vector file ---\n",
    "def process_single_vector(args: Tuple[str, str, int, float]) -> str:\n",
    "    vpath, geepathes_dir, epsg, res = args\n",
    "    tname = os.path.splitext(os.path.basename(vpath))[0]\n",
    "    tname_dir = os.path.join(geepathes_dir, tname)\n",
    "    os.makedirs(tname_dir, exist_ok=True)\n",
    "    tname_fn = os.path.join(tname_dir, f\"{tname}.tif\")\n",
    "\n",
    "    if not os.path.isfile(tname_fn):\n",
    "        make_dummy_raster(vpath, tname_fn, epsg=epsg, res=res)\n",
    "    return tname_fn\n",
    "\n",
    "# --- Sequential Processing ---\n",
    "def create_dummy_rasters_inseq(vfiles: List[str], geepathes_dir: str, epsg: int = 4326, res: float = 1/3600) -> List[str]:\n",
    "    dummy_tifs = []\n",
    "    for vpath in tqdm(vfiles, desc=\"Creating dummy rasters (Sequential)\"):\n",
    "        tif_path = process_single_vector((vpath, geepathes_dir, epsg, res))\n",
    "        dummy_tifs.append(tif_path)\n",
    "    return dummy_tifs\n",
    "\n",
    "# --- Parallel Processing (with Pool) ---\n",
    "def create_dummy_rasters_inpar(vfiles: List[str], geepathes_dir: str, epsg: int = 4326, res: float = 1/3600, num_workers: int = 4) -> List[str]:\n",
    "    args = [(vpath, geepathes_dir, epsg, res) for vpath in vfiles]\n",
    "    dummy_tifs = []\n",
    "\n",
    "    with Pool(processes=num_workers) as pool:\n",
    "        for tif_path in tqdm(pool.imap_unordered(process_single_vector, args), total=len(vfiles), desc=\"Creating dummy rasters (Parallel)\"):\n",
    "            dummy_tifs.append(tif_path)\n",
    "    return dummy_tifs\n"
   ]
  },
  {
   "cell_type": "code",
   "execution_count": null,
   "id": "c0d41a0e",
   "metadata": {},
   "outputs": [],
   "source": []
  },
  {
   "cell_type": "code",
   "execution_count": null,
   "id": "fc12e261",
   "metadata": {},
   "outputs": [
    {
     "name": "stderr",
     "output_type": "stream",
     "text": [
      "Creating dummy rasters (Parallel): 100%|██████████| 1855/1855 [01:14<00:00, 24.96it/s]\n"
     ]
    }
   ],
   "source": []
  },
  {
   "cell_type": "code",
   "execution_count": null,
   "id": "834fb13e",
   "metadata": {},
   "outputs": [],
   "source": []
  },
  {
   "cell_type": "code",
   "execution_count": null,
   "id": "3fe996d5",
   "metadata": {},
   "outputs": [],
   "source": []
  },
  {
   "cell_type": "code",
   "execution_count": null,
   "id": "6ed7f25d",
   "metadata": {},
   "outputs": [],
   "source": []
  },
  {
   "cell_type": "markdown",
   "id": "5ec78dbb",
   "metadata": {},
   "source": [
    "make all this into one pipeline end 2 end "
   ]

  }
 ],
 "metadata": {
  "kernelspec": {
   "display_name": "agluon",
   "language": "python",
   "name": "python3"
  },
  "language_info": {
   "codemirror_mode": {
    "name": "ipython",
    "version": 3
   },
   "file_extension": ".py",
   "mimetype": "text/x-python",
   "name": "python",
   "nbconvert_exporter": "python",
   "pygments_lexer": "ipython3",
   "version": "3.11.11"
  }
 },
 "nbformat": 4,
 "nbformat_minor": 5
}

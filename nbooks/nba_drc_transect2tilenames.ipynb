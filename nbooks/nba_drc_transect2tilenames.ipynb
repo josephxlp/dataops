{
 "cells": [
  {
   "cell_type": "markdown",
   "metadata": {},
   "source": [
    "what: given raster bbox, and return all the tilenames overlapping 1degree by 1 degree global griging like copernicus dsm"
   ]
  },
  {
   "cell_type": "code",
   "execution_count": 1,
   "metadata": {},
   "outputs": [],
   "source": [
    "from uvars import drc_dir,topoxcale_dir,dataops_dir"
   ]
  },
  {
   "cell_type": "code",
   "execution_count": 2,
   "metadata": {},
   "outputs": [],
   "source": [
    "import os \n",
    "import sys \n",
    "from glob import glob\n",
    "import rasterio\n",
    "\n",
    "\n",
    "def get_profile(tif_path):\n",
    "    with rasterio.open(tif_path) as src:\n",
    "        return src.profile\n",
    "    \n",
    "sys.path.append(dataops_dir)\n",
    "from dataops.rops import list2txt, gdalbuildvrt, gdalreproject,merge_tifs"
   ]
  },
  {
   "cell_type": "code",
   "execution_count": 3,
   "metadata": {},
   "outputs": [
    {
     "name": "stdout",
     "output_type": "stream",
     "text": [
      "EPSG:32733\n",
      "EPSG:32733\n",
      "EPSG:32733\n"
     ]
    }
   ],
   "source": [
    "files = glob(f\"{drc_dir}/*.tif\")\n",
    "for fi in files:\n",
    "    pr = get_profile(fi)\n",
    "    epsg_code = str(pr['crs'])\n",
    "    print(epsg_code)"
   ]
  },
  {
   "cell_type": "code",
   "execution_count": 4,
   "metadata": {},
   "outputs": [],
   "source": [
    "txt = \"/home/ljp238/Downloads/DRC_LiDAR_Roy2021/dtm.txt\"\n",
    "vrt = \"/home/ljp238/Downloads/DRC_LiDAR_Roy2021/dtm.vrt\""
   ]
  },
  {
   "cell_type": "code",
   "execution_count": 5,
   "metadata": {},
   "outputs": [],
   "source": [
    "list2txt(txt, files)\n",
    "gdalbuildvrt(vrt, txt, epsgcode=4326)"
   ]
  },
  {
   "cell_type": "code",
   "execution_count": 6,
   "metadata": {},
   "outputs": [],
   "source": [
    "output_tif = vrt = \"/home/ljp238/Downloads/DRC_LiDAR_Roy2021/DRC_LiDAR_Roy2021_DTM.tif\"\n",
    "merge_tifs(files, output_tif)"
   ]
  },
  {
   "cell_type": "code",
   "execution_count": 7,
   "metadata": {},
   "outputs": [
    {
     "name": "stdout",
     "output_type": "stream",
     "text": [
      "Output file /home/ljp238/Downloads/DRC_LiDAR_Roy2021/DRC_LiDAR_Roy2021_DTM_4326.tif already exists. Skipping reprojection.\n"
     ]
    }
   ],
   "source": [
    "fi = \"/home/ljp238/Downloads/DRC_LiDAR_Roy2021/DRC_LiDAR_Roy2021_DTM.tif\"\n",
    "fo = \"/home/ljp238/Downloads/DRC_LiDAR_Roy2021/DRC_LiDAR_Roy2021_DTM_4326.tif\"\n",
    "gdalreproject(fi, fo, res=1/3600, epsgcode=4326)"
   ]
  },
  {
   "cell_type": "code",
   "execution_count": 10,
   "metadata": {},
   "outputs": [],
   "source": [
    "import geopandas as gpd\n",
    "from shapely.geometry import box\n",
    "import rasterio\n",
    "\n",
    "fo = \"/home/ljp238/Downloads/DRC_LiDAR_Roy2021/DRC_LiDAR_Roy2021_DTM_4326.tif\"\n",
    "vfpath = \"/home/ljp238/Downloads/FABDEM_v1-2_tiles.geojson\""
   ]
  },
  {
   "cell_type": "code",
   "execution_count": 11,
   "metadata": {},
   "outputs": [],
   "source": [
    "import geopandas as gpd\n",
    "from shapely.geometry import box\n",
    "\n",
    "# Function to get the bounding box of a tif file\n",
    "def get_bbox(tif_path):\n",
    "    import rasterio\n",
    "    with rasterio.open(tif_path) as src:\n",
    "        return box(*src.bounds)  # returns the bounding box as a shapely geometry\n",
    "\n",
    "def get_tilenames_from_global_grid(tif_path, grid_path):\n",
    "    g = gpd.read_file(grid_path)\n",
    "    \n",
    "    # Get the bounding box for the tif file\n",
    "    bbox = get_bbox(tif_path)\n",
    "    \n",
    "    # Create a new column 'intersects' to check intersection with the bounding box\n",
    "    g['intersects'] = g['geometry'].intersects(bbox)\n",
    "    \n",
    "    # Filter the rows where the geometry intersects with the bounding box\n",
    "    intersecting_tiles = g[g['intersects']]\n",
    "    \n",
    "    # Extract the unique tile names\n",
    "    unique_tile_names = intersecting_tiles['tile_name'].unique()\n",
    "    \n",
    "    # Extract the bounding boxes of the intersecting tiles\n",
    "    unique_tile_bboxs = [tile.bounds for tile in intersecting_tiles.geometry]\n",
    "    \n",
    "    return unique_tile_names, unique_tile_bboxs,intersecting_tiles\n"
   ]
  },
  {
   "cell_type": "code",
   "execution_count": 12,
   "metadata": {},
   "outputs": [],
   "source": [
    "tile_names, tile_bboxs ,intersecting_tiles = get_tilenames_from_global_grid(tif_path=fo,grid_path=vfpath)"
   ]
  },
  {
   "cell_type": "code",
   "execution_count": 13,
   "metadata": {},
   "outputs": [
    {
     "data": {
      "text/plain": [
       "array(['S002E017', 'S002E018', 'S003E017', 'S003E018'], dtype=object)"
      ]
     },
     "execution_count": 13,
     "metadata": {},
     "output_type": "execute_result"
    }
   ],
   "source": [
    "tile_names"
   ]
  },
  {
   "cell_type": "code",
   "execution_count": 13,
   "metadata": {},
   "outputs": [],
   "source": [
    "# create a folder for data synth-data augumentation"
   ]
  },
  {
   "cell_type": "code",
   "execution_count": 14,
   "metadata": {},
   "outputs": [
    {
     "name": "stdout",
     "output_type": "stream",
     "text": [
      "available datasets on globaldem API\n",
      "{'SRTM GL3 90m': 'SRTMGL3', 'SRTM GL1 30m': 'SRTMGL1', 'SRTM GL1 Ellipsoidal 30m': 'SRTMGL1_E', 'ALOS World 3D 30m': 'AW3D30', 'ALOS World 3D Ellipsoidal, 30m': 'AW3D30_E', 'Global Bathymetry SRTM15+ V2.1 500m': 'SRTM15Plus', 'NASADEM Global DEM': 'NASADEM', 'Copernicus Global DSM 30m': 'COP30', 'Copernicus Global DSM 90m': 'COP90', 'DTM 30m': 'EU_DTM', 'DTM 1000m': 'GEDI_L3', 'Global Bathymetry 500m': 'GEBCOIceTopo', 'Global Bathymetry Sub Ice 500m': 'GEBCOSubIceTopo'}\n"
     ]
    }
   ],
   "source": [
    "from dataops import OpenTopgraphy as OT\n",
    "import numpy as np\n",
    "from dotenv import load_dotenv"
   ]
  },
  {
   "cell_type": "code",
   "execution_count": 19,
   "metadata": {},
   "outputs": [],
   "source": [
    "load_dotenv()\n",
    "# Get the value of the environment variable\n",
    "api_key = os.getenv(\"OPEN_TOPOGRAPHY_API_KEY\")"
   ]
  },
  {
   "cell_type": "code",
   "execution_count": 20,
   "metadata": {},
   "outputs": [],
   "source": [
    "dem_types = OT.dem_types"
   ]
  },
  {
   "cell_type": "code",
   "execution_count": 21,
   "metadata": {},
   "outputs": [],
   "source": [
    "otdata_dir = \"/home/ljp238/Downloads/DRC_LiDAR_Roy2021/OTdata/\"\n",
    "#varnames = np.array(list(dem_types.values()))"
   ]
  },
  {
   "cell_type": "code",
   "execution_count": 22,
   "metadata": {},
   "outputs": [],
   "source": [
    "varnames = ['COP30']\n",
    "for i in range(len(tile_names)):\n",
    "    tile = tile_names[i]\n",
    "    bbox = tile_bboxs[i]\n",
    "    tile_dpath = os.path.join(otdata_dir,tile)\n",
    "    os.makedirs(tile_dpath, exist_ok=True)\n",
    "    for varname in varnames:\n",
    "        tile_var_dpath = os.path.join(tile_dpath, varname)\n",
    "        os.makedirs(tile_var_dpath, exist_ok=True)\n",
    "        # OT.download_globaldem(outdir=tile_var_dpath,\n",
    "        #                       bbox=bbox ,rpath=None, \n",
    "        #                       varname=varname, \n",
    "        #                       api_key=api_key)\n",
    "    "
   ]
  },
  {
   "cell_type": "code",
   "execution_count": 23,
   "metadata": {},
   "outputs": [],
   "source": [
    "import geopandas as gpd\n",
    "from shapely.geometry import box\n",
    "\n",
    "# Function to get the bounding box of a tif file\n",
    "def get_bbox(tif_path):\n",
    "    import rasterio\n",
    "    with rasterio.open(tif_path) as src:\n",
    "        return box(*src.bounds)  # returns the bounding box as a shapely geometry\n",
    "\n",
    "def get_tilenames_from_global_grid(tif_path, grid_path):\n",
    "    g = gpd.read_file(grid_path)\n",
    "    \n",
    "    # Get the bounding box for the tif file\n",
    "    bbox = get_bbox(tif_path)\n",
    "    \n",
    "    # Create a new column 'intersects' to check intersection with the bounding box\n",
    "    g['intersects'] = g['geometry'].intersects(bbox)\n",
    "    \n",
    "    # Filter the rows where the geometry intersects with the bounding box\n",
    "    intersecting_tiles = g[g['intersects']]\n",
    "    \n",
    "    # Extract the unique tile names\n",
    "    unique_tile_names = intersecting_tiles['tile_name'].unique()\n",
    "    \n",
    "    # Extract the bounding boxes of the intersecting tiles\n",
    "    unique_tile_bboxs = [tile.bounds for tile in intersecting_tiles.geometry]\n",
    "    \n",
    "    return unique_tile_names, unique_tile_bboxs,intersecting_tiles\n"
   ]
  },
  {
   "cell_type": "code",
   "execution_count": 24,
   "metadata": {},
   "outputs": [],
   "source": [
    "tile_names, tile_bboxs, gdf_tiles = get_tilenames_from_global_grid(tif_path=fo,grid_path=vfpath)"
   ]
  },
  {
   "cell_type": "code",
   "execution_count": 25,
   "metadata": {},
   "outputs": [
    {
     "data": {
      "text/html": [
       "<div>\n",
       "<style scoped>\n",
       "    .dataframe tbody tr th:only-of-type {\n",
       "        vertical-align: middle;\n",
       "    }\n",
       "\n",
       "    .dataframe tbody tr th {\n",
       "        vertical-align: top;\n",
       "    }\n",
       "\n",
       "    .dataframe thead th {\n",
       "        text-align: right;\n",
       "    }\n",
       "</style>\n",
       "<table border=\"1\" class=\"dataframe\">\n",
       "  <thead>\n",
       "    <tr style=\"text-align: right;\">\n",
       "      <th></th>\n",
       "      <th>tile_name</th>\n",
       "      <th>file_name</th>\n",
       "      <th>zipfile_name</th>\n",
       "      <th>geometry</th>\n",
       "      <th>intersects</th>\n",
       "    </tr>\n",
       "  </thead>\n",
       "  <tbody>\n",
       "    <tr>\n",
       "      <th>15093</th>\n",
       "      <td>S002E017</td>\n",
       "      <td>S002E017_FABDEM_V1-2.tif</td>\n",
       "      <td>S10E010-N00E020_FABDEM_V1-2.zip</td>\n",
       "      <td>POLYGON ((17 -2, 17 -1, 18 -1, 18 -2, 17 -2))</td>\n",
       "      <td>True</td>\n",
       "    </tr>\n",
       "    <tr>\n",
       "      <th>15094</th>\n",
       "      <td>S002E018</td>\n",
       "      <td>S002E018_FABDEM_V1-2.tif</td>\n",
       "      <td>S10E010-N00E020_FABDEM_V1-2.zip</td>\n",
       "      <td>POLYGON ((18 -2, 18 -1, 19 -1, 19 -2, 18 -2))</td>\n",
       "      <td>True</td>\n",
       "    </tr>\n",
       "    <tr>\n",
       "      <th>15223</th>\n",
       "      <td>S003E017</td>\n",
       "      <td>S003E017_FABDEM_V1-2.tif</td>\n",
       "      <td>S10E010-N00E020_FABDEM_V1-2.zip</td>\n",
       "      <td>POLYGON ((17 -3, 17 -2, 18 -2, 18 -3, 17 -3))</td>\n",
       "      <td>True</td>\n",
       "    </tr>\n",
       "    <tr>\n",
       "      <th>15224</th>\n",
       "      <td>S003E018</td>\n",
       "      <td>S003E018_FABDEM_V1-2.tif</td>\n",
       "      <td>S10E010-N00E020_FABDEM_V1-2.zip</td>\n",
       "      <td>POLYGON ((18 -3, 18 -2, 19 -2, 19 -3, 18 -3))</td>\n",
       "      <td>True</td>\n",
       "    </tr>\n",
       "  </tbody>\n",
       "</table>\n",
       "</div>"
      ],
      "text/plain": [
       "      tile_name                 file_name                     zipfile_name  \\\n",
       "15093  S002E017  S002E017_FABDEM_V1-2.tif  S10E010-N00E020_FABDEM_V1-2.zip   \n",
       "15094  S002E018  S002E018_FABDEM_V1-2.tif  S10E010-N00E020_FABDEM_V1-2.zip   \n",
       "15223  S003E017  S003E017_FABDEM_V1-2.tif  S10E010-N00E020_FABDEM_V1-2.zip   \n",
       "15224  S003E018  S003E018_FABDEM_V1-2.tif  S10E010-N00E020_FABDEM_V1-2.zip   \n",
       "\n",
       "                                            geometry  intersects  \n",
       "15093  POLYGON ((17 -2, 17 -1, 18 -1, 18 -2, 17 -2))        True  \n",
       "15094  POLYGON ((18 -2, 18 -1, 19 -1, 19 -2, 18 -2))        True  \n",
       "15223  POLYGON ((17 -3, 17 -2, 18 -2, 18 -3, 17 -3))        True  \n",
       "15224  POLYGON ((18 -3, 18 -2, 19 -2, 19 -3, 18 -3))        True  "
      ]
     },
     "execution_count": 25,
     "metadata": {},
     "output_type": "execute_result"
    }
   ],
   "source": [
    "gdf_tiles"
   ]
  },
  {
   "cell_type": "code",
   "execution_count": 26,
   "metadata": {},
   "outputs": [
    {
     "data": {
      "text/html": [
       "<div>\n",
       "<style scoped>\n",
       "    .dataframe tbody tr th:only-of-type {\n",
       "        vertical-align: middle;\n",
       "    }\n",
       "\n",
       "    .dataframe tbody tr th {\n",
       "        vertical-align: top;\n",
       "    }\n",
       "\n",
       "    .dataframe thead th {\n",
       "        text-align: right;\n",
       "    }\n",
       "</style>\n",
       "<table border=\"1\" class=\"dataframe\">\n",
       "  <thead>\n",
       "    <tr style=\"text-align: right;\">\n",
       "      <th></th>\n",
       "      <th>tile_name</th>\n",
       "      <th>file_name</th>\n",
       "      <th>zipfile_name</th>\n",
       "      <th>geometry</th>\n",
       "      <th>intersects</th>\n",
       "    </tr>\n",
       "  </thead>\n",
       "  <tbody>\n",
       "    <tr>\n",
       "      <th>15093</th>\n",
       "      <td>S002E017</td>\n",
       "      <td>S002E017_FABDEM_V1-2.tif</td>\n",
       "      <td>S10E010-N00E020_FABDEM_V1-2.zip</td>\n",
       "      <td>POLYGON ((17 -2, 17 -1, 18 -1, 18 -2, 17 -2))</td>\n",
       "      <td>True</td>\n",
       "    </tr>\n",
       "  </tbody>\n",
       "</table>\n",
       "</div>"
      ],
      "text/plain": [
       "      tile_name                 file_name                     zipfile_name  \\\n",
       "15093  S002E017  S002E017_FABDEM_V1-2.tif  S10E010-N00E020_FABDEM_V1-2.zip   \n",
       "\n",
       "                                            geometry  intersects  \n",
       "15093  POLYGON ((17 -2, 17 -1, 18 -1, 18 -2, 17 -2))        True  "
      ]
     },
     "execution_count": 26,
     "metadata": {},
     "output_type": "execute_result"
    }
   ],
   "source": [
    "gdf_tiles.head(1)"
   ]
  },
  {
   "cell_type": "code",
   "execution_count": 27,
   "metadata": {},
   "outputs": [],
   "source": [
    "from dataops import GoogleEarthEngineDatasets as geed "
   ]
  },
  {
   "cell_type": "markdown",
   "metadata": {},
   "source": [
    "create patches for gee"
   ]
  },
  {
   "cell_type": "code",
   "execution_count": 28,
   "metadata": {},
   "outputs": [
    {
     "data": {
      "text/html": [
       "\n",
       "            <style>\n",
       "                .geemap-dark {\n",
       "                    --jp-widgets-color: white;\n",
       "                    --jp-widgets-label-color: white;\n",
       "                    --jp-ui-font-color1: white;\n",
       "                    --jp-layout-color2: #454545;\n",
       "                    background-color: #383838;\n",
       "                }\n",
       "\n",
       "                .geemap-dark .jupyter-button {\n",
       "                    --jp-layout-color3: #383838;\n",
       "                }\n",
       "\n",
       "                .geemap-colab {\n",
       "                    background-color: var(--colab-primary-surface-color, white);\n",
       "                }\n",
       "\n",
       "                .geemap-colab .jupyter-button {\n",
       "                    --jp-layout-color3: var(--colab-primary-surface-color, white);\n",
       "                }\n",
       "            </style>\n",
       "            "
      ],
      "text/plain": [
       "<IPython.core.display.HTML object>"
      ]
     },
     "metadata": {},
     "output_type": "display_data"
    }
   ],
   "source": [
    "from glob import glob\n",
    "import geopandas as gpd\n",
    "import rasterio\n",
    "from rasterio.transform import from_origin\n",
    "import numpy as np"
   ]
  },
  {
   "cell_type": "code",
   "execution_count": 29,
   "metadata": {},
   "outputs": [
    {
     "data": {
      "text/html": [
       "\n",
       "            <style>\n",
       "                .geemap-dark {\n",
       "                    --jp-widgets-color: white;\n",
       "                    --jp-widgets-label-color: white;\n",
       "                    --jp-ui-font-color1: white;\n",
       "                    --jp-layout-color2: #454545;\n",
       "                    background-color: #383838;\n",
       "                }\n",
       "\n",
       "                .geemap-dark .jupyter-button {\n",
       "                    --jp-layout-color3: #383838;\n",
       "                }\n",
       "\n",
       "                .geemap-colab {\n",
       "                    background-color: var(--colab-primary-surface-color, white);\n",
       "                }\n",
       "\n",
       "                .geemap-colab .jupyter-button {\n",
       "                    --jp-layout-color3: var(--colab-primary-surface-color, white);\n",
       "                }\n",
       "            </style>\n",
       "            "
      ],
      "text/plain": [
       "<IPython.core.display.HTML object>"
      ]
     },
     "metadata": {},
     "output_type": "display_data"
    }
   ],
   "source": [
    "GEEdata_dir = \"/home/ljp238/Downloads/DRC_LiDAR_Roy2021/GEEdata\" \n",
    "geepathes_dir = f\"{GEEdata_dir}/patches\"\n",
    "geesentine1_dir = f\"{GEEdata_dir}/S1\"\n",
    "os.makedirs(GEEdata_dir, exist_ok=True)\n",
    "os.makedirs(geepathes_dir, exist_ok=True)\n",
    "os.makedirs(geesentine1_dir, exist_ok=True)"
   ]
  },
  {
   "cell_type": "code",
   "execution_count": 33,
   "metadata": {},
   "outputs": [
    {
     "data": {
      "text/html": [
       "\n",
       "            <style>\n",
       "                .geemap-dark {\n",
       "                    --jp-widgets-color: white;\n",
       "                    --jp-widgets-label-color: white;\n",
       "                    --jp-ui-font-color1: white;\n",
       "                    --jp-layout-color2: #454545;\n",
       "                    background-color: #383838;\n",
       "                }\n",
       "\n",
       "                .geemap-dark .jupyter-button {\n",
       "                    --jp-layout-color3: #383838;\n",
       "                }\n",
       "\n",
       "                .geemap-colab {\n",
       "                    background-color: var(--colab-primary-surface-color, white);\n",
       "                }\n",
       "\n",
       "                .geemap-colab .jupyter-button {\n",
       "                    --jp-layout-color3: var(--colab-primary-surface-color, white);\n",
       "                }\n",
       "            </style>\n",
       "            "
      ],
      "text/plain": [
       "<IPython.core.display.HTML object>"
      ]
     },
     "metadata": {},
     "output_type": "display_data"
    },
    {
     "data": {
      "text/html": [
       "<div>\n",
       "<style scoped>\n",
       "    .dataframe tbody tr th:only-of-type {\n",
       "        vertical-align: middle;\n",
       "    }\n",
       "\n",
       "    .dataframe tbody tr th {\n",
       "        vertical-align: top;\n",
       "    }\n",
       "\n",
       "    .dataframe thead th {\n",
       "        text-align: right;\n",
       "    }\n",
       "</style>\n",
       "<table border=\"1\" class=\"dataframe\">\n",
       "  <thead>\n",
       "    <tr style=\"text-align: right;\">\n",
       "      <th></th>\n",
       "      <th>tile_name</th>\n",
       "      <th>file_name</th>\n",
       "      <th>zipfile_name</th>\n",
       "      <th>geometry</th>\n",
       "      <th>intersects</th>\n",
       "    </tr>\n",
       "  </thead>\n",
       "  <tbody>\n",
       "    <tr>\n",
       "      <th>15093</th>\n",
       "      <td>S002E017</td>\n",
       "      <td>S002E017_FABDEM_V1-2.tif</td>\n",
       "      <td>S10E010-N00E020_FABDEM_V1-2.zip</td>\n",
       "      <td>POLYGON ((17 -2, 17 -1, 18 -1, 18 -2, 17 -2))</td>\n",
       "      <td>True</td>\n",
       "    </tr>\n",
       "    <tr>\n",
       "      <th>15094</th>\n",
       "      <td>S002E018</td>\n",
       "      <td>S002E018_FABDEM_V1-2.tif</td>\n",
       "      <td>S10E010-N00E020_FABDEM_V1-2.zip</td>\n",
       "      <td>POLYGON ((18 -2, 18 -1, 19 -1, 19 -2, 18 -2))</td>\n",
       "      <td>True</td>\n",
       "    </tr>\n",
       "    <tr>\n",
       "      <th>15223</th>\n",
       "      <td>S003E017</td>\n",
       "      <td>S003E017_FABDEM_V1-2.tif</td>\n",
       "      <td>S10E010-N00E020_FABDEM_V1-2.zip</td>\n",
       "      <td>POLYGON ((17 -3, 17 -2, 18 -2, 18 -3, 17 -3))</td>\n",
       "      <td>True</td>\n",
       "    </tr>\n",
       "    <tr>\n",
       "      <th>15224</th>\n",
       "      <td>S003E018</td>\n",
       "      <td>S003E018_FABDEM_V1-2.tif</td>\n",
       "      <td>S10E010-N00E020_FABDEM_V1-2.zip</td>\n",
       "      <td>POLYGON ((18 -3, 18 -2, 19 -2, 19 -3, 18 -3))</td>\n",
       "      <td>True</td>\n",
       "    </tr>\n",
       "  </tbody>\n",
       "</table>\n",
       "</div>"
      ],
      "text/plain": [
       "      tile_name                 file_name                     zipfile_name  \\\n",
       "15093  S002E017  S002E017_FABDEM_V1-2.tif  S10E010-N00E020_FABDEM_V1-2.zip   \n",
       "15094  S002E018  S002E018_FABDEM_V1-2.tif  S10E010-N00E020_FABDEM_V1-2.zip   \n",
       "15223  S003E017  S003E017_FABDEM_V1-2.tif  S10E010-N00E020_FABDEM_V1-2.zip   \n",
       "15224  S003E018  S003E018_FABDEM_V1-2.tif  S10E010-N00E020_FABDEM_V1-2.zip   \n",
       "\n",
       "                                            geometry  intersects  \n",
       "15093  POLYGON ((17 -2, 17 -1, 18 -1, 18 -2, 17 -2))        True  \n",
       "15094  POLYGON ((18 -2, 18 -1, 19 -1, 19 -2, 18 -2))        True  \n",
       "15223  POLYGON ((17 -3, 17 -2, 18 -2, 18 -3, 17 -3))        True  \n",
       "15224  POLYGON ((18 -3, 18 -2, 19 -2, 19 -3, 18 -3))        True  "
      ]
     },
     "execution_count": 33,
     "metadata": {},
     "output_type": "execute_result"
    }
   ],
   "source": [
    "gdf_tiles"
   ]
  },
  {
   "cell_type": "code",
   "execution_count": null,
   "metadata": {},
   "outputs": [
    {
     "data": {
      "text/html": [
       "\n",
       "            <style>\n",
       "                .geemap-dark {\n",
       "                    --jp-widgets-color: white;\n",
       "                    --jp-widgets-label-color: white;\n",
       "                    --jp-ui-font-color1: white;\n",
       "                    --jp-layout-color2: #454545;\n",
       "                    background-color: #383838;\n",
       "                }\n",
       "\n",
       "                .geemap-dark .jupyter-button {\n",
       "                    --jp-layout-color3: #383838;\n",
       "                }\n",
       "\n",
       "                .geemap-colab {\n",
       "                    background-color: var(--colab-primary-surface-color, white);\n",
       "                }\n",
       "\n",
       "                .geemap-colab .jupyter-button {\n",
       "                    --jp-layout-color3: var(--colab-primary-surface-color, white);\n",
       "                }\n",
       "            </style>\n",
       "            "
      ],
      "text/plain": [
       "<IPython.core.display.HTML object>"
      ]
     },
     "metadata": {},
     "output_type": "display_data"
    }
   ],
   "source": [
    "patches_dir = \"/home/ljp238/Downloads/DRC_LiDAR_Roy2021/GEEdata/patches\""
   ]
  },
  {
   "cell_type": "code",
   "execution_count": 41,
   "metadata": {},
   "outputs": [
    {
     "data": {
      "text/html": [
       "\n",
       "            <style>\n",
       "                .geemap-dark {\n",
       "                    --jp-widgets-color: white;\n",
       "                    --jp-widgets-label-color: white;\n",
       "                    --jp-ui-font-color1: white;\n",
       "                    --jp-layout-color2: #454545;\n",
       "                    background-color: #383838;\n",
       "                }\n",
       "\n",
       "                .geemap-dark .jupyter-button {\n",
       "                    --jp-layout-color3: #383838;\n",
       "                }\n",
       "\n",
       "                .geemap-colab {\n",
       "                    background-color: var(--colab-primary-surface-color, white);\n",
       "                }\n",
       "\n",
       "                .geemap-colab .jupyter-button {\n",
       "                    --jp-layout-color3: var(--colab-primary-surface-color, white);\n",
       "                }\n",
       "            </style>\n",
       "            "
      ],
      "text/plain": [
       "<IPython.core.display.HTML object>"
      ]
     },
     "metadata": {},
     "output_type": "display_data"
    }
   ],
   "source": [
    "for tilename in tile_names:\n",
    "    subgdf = gdf_tiles[gdf_tiles['tile_name'] == tilename]\n",
    "    subgdf = subgdf[['tile_name','geometry']]\n",
    "    patches_tile_dir = os.path.join(patches_dir,tilename)\n",
    "    os.makedirs(patches_tile_dir, exist_ok=True)\n",
    "    tile_gpkg = os.path.join(patches_tile_dir,f\"{tilename}.gpkg\")\n",
    "    if not os.path.isfile(tile_gpkg):\n",
    "        subgdf.to_file(tile_gpkg, driver=\"GPKG\")\n"
   ]
  },
  {
   "cell_type": "code",
   "execution_count": 38,
   "metadata": {},
   "outputs": [
    {
     "data": {
      "text/html": [
       "\n",
       "            <style>\n",
       "                .geemap-dark {\n",
       "                    --jp-widgets-color: white;\n",
       "                    --jp-widgets-label-color: white;\n",
       "                    --jp-ui-font-color1: white;\n",
       "                    --jp-layout-color2: #454545;\n",
       "                    background-color: #383838;\n",
       "                }\n",
       "\n",
       "                .geemap-dark .jupyter-button {\n",
       "                    --jp-layout-color3: #383838;\n",
       "                }\n",
       "\n",
       "                .geemap-colab {\n",
       "                    background-color: var(--colab-primary-surface-color, white);\n",
       "                }\n",
       "\n",
       "                .geemap-colab .jupyter-button {\n",
       "                    --jp-layout-color3: var(--colab-primary-surface-color, white);\n",
       "                }\n",
       "            </style>\n",
       "            "
      ],
      "text/plain": [
       "<IPython.core.display.HTML object>"
      ]
     },
     "metadata": {},
     "output_type": "display_data"
    },
    {
     "data": {
      "text/plain": [
       "geopandas.geodataframe.GeoDataFrame"
      ]
     },
     "execution_count": 38,
     "metadata": {},
     "output_type": "execute_result"
    }
   ],
   "source": [
    "type(subgdf)"
   ]
  },
  {
   "cell_type": "code",
   "execution_count": 43,
   "metadata": {},
   "outputs": [
    {
     "data": {
      "text/html": [
       "\n",
       "            <style>\n",
       "                .geemap-dark {\n",
       "                    --jp-widgets-color: white;\n",
       "                    --jp-widgets-label-color: white;\n",
       "                    --jp-ui-font-color1: white;\n",
       "                    --jp-layout-color2: #454545;\n",
       "                    background-color: #383838;\n",
       "                }\n",
       "\n",
       "                .geemap-dark .jupyter-button {\n",
       "                    --jp-layout-color3: #383838;\n",
       "                }\n",
       "\n",
       "                .geemap-colab {\n",
       "                    background-color: var(--colab-primary-surface-color, white);\n",
       "                }\n",
       "\n",
       "                .geemap-colab .jupyter-button {\n",
       "                    --jp-layout-color3: var(--colab-primary-surface-color, white);\n",
       "                }\n",
       "            </style>\n",
       "            "
      ],
      "text/plain": [
       "<IPython.core.display.HTML object>"
      ]
     },
     "metadata": {},
     "output_type": "display_data"
    },
    {
     "data": {
      "text/plain": [
       "'/home/ljp238/Downloads/DRC_LiDAR_Roy2021/GEEdata/patches/S002E017/S002E017.gpkg'"
      ]
     },
     "execution_count": 43,
     "metadata": {},
     "output_type": "execute_result"
    }
   ],
   "source": [
    "vfiles =  glob(f\"{patches_dir}/*/*.gpkg\")\n",
    "vpath =  vfiles[0]\n",
    "vpath"
   ]
  },
  {
   "cell_type": "code",
   "execution_count": 48,
   "metadata": {},
   "outputs": [
    {
     "data": {
      "text/html": [
       "\n",
       "            <style>\n",
       "                .geemap-dark {\n",
       "                    --jp-widgets-color: white;\n",
       "                    --jp-widgets-label-color: white;\n",
       "                    --jp-ui-font-color1: white;\n",
       "                    --jp-layout-color2: #454545;\n",
       "                    background-color: #383838;\n",
       "                }\n",
       "\n",
       "                .geemap-dark .jupyter-button {\n",
       "                    --jp-layout-color3: #383838;\n",
       "                }\n",
       "\n",
       "                .geemap-colab {\n",
       "                    background-color: var(--colab-primary-surface-color, white);\n",
       "                }\n",
       "\n",
       "                .geemap-colab .jupyter-button {\n",
       "                    --jp-layout-color3: var(--colab-primary-surface-color, white);\n",
       "                }\n",
       "            </style>\n",
       "            "
      ],
      "text/plain": [
       "<IPython.core.display.HTML object>"
      ]
     },
     "metadata": {},
     "output_type": "display_data"
    },
    {
     "name": "stdout",
     "output_type": "stream",
     "text": [
      "/home/ljp238/Downloads/DRC_LiDAR_Roy2021/GEEdata/patches/S002E017/S002E017.gpkg\n",
      "/home/ljp238/Downloads/DRC_LiDAR_Roy2021/GEEdata/patches/S002E018/S002E018.gpkg\n",
      "/home/ljp238/Downloads/DRC_LiDAR_Roy2021/GEEdata/patches/S003E017/S003E017.gpkg\n",
      "/home/ljp238/Downloads/DRC_LiDAR_Roy2021/GEEdata/patches/S003E018/S003E018.gpkg\n"
     ]
    }
   ],
   "source": [
    "def vector2raster_properties(vpath,epsg = 4326, res=1/3600):\n",
    "\n",
    "    vector = gpd.read_file(vpath)\n",
    "    bbox = vector.total_bounds  # [minx, miny, maxx, maxy]\n",
    "    if res is None:\n",
    "        res = 1 / 3600  # Set resolution to 1/3600 degree\n",
    "    #epsg = 4326  # EPSG:4326\n",
    "\n",
    "    # Calculate the width and height of the raster\n",
    "    width = int((bbox[2] - bbox[0]) / res) + 1\n",
    "    height = int((bbox[3] - bbox[1]) / res) + 1\n",
    "    # Define the transformation\n",
    "    transform = from_origin(bbox[0], bbox[3], res, res)\n",
    "    return width,height,transform\n",
    "\n",
    "def make_dummy_raster(vpath, rpath,epsg = 4326,res=1/3600):\n",
    "    width,height,transform = vector2raster_properties(vpath,epsg = epsg, res=res)\n",
    "    # Create a new raster with uint8 data type and high compression\n",
    "    with rasterio.open(rpath, 'w', driver='GTiff', height=height, width=width,\n",
    "                       count=1, dtype='uint8', crs=f\"EPSG:{epsg}\", transform=transform,\n",
    "                       compress='lzw') as dst:  # 'lzw' is a good compression algorithm for rasters\n",
    "        # Generate random binary data (0s and 1s)\n",
    "        random_data = np.random.choice([0, 1], size=(height, width), p=[0.5, 0.5])\n",
    "        # Write the random data to the raster\n",
    "        dst.write(random_data.astype('uint8'), 1)\n",
    "\n",
    "dummy_tifs = []\n",
    "for vapth in vfiles:\n",
    "    print(vapth)\n",
    "    tname = os.path.basename(vapth)[:-5]\n",
    "    tname_dir = f\"{geepathes_dir}/{tname}\"\n",
    "    os.makedirs(tname_dir, exist_ok=True)\n",
    "    tname_fn = f\"{tname_dir}/{tname}.tif\"\n",
    "    make_dummy_raster(vapth, tname_fn, epsg=4326, res=1/3600)\n",
    "    dummy_tifs.append(tname_fn)\n",
    "\n",
    "# there is something wrong here. all vfiles are different but all tname_fn are the same instead if different"
   ]
  },
  {
   "cell_type": "code",
   "execution_count": 77,
   "metadata": {},
   "outputs": [
    {
     "data": {
      "text/html": [
       "\n",
       "            <style>\n",
       "                .geemap-dark {\n",
       "                    --jp-widgets-color: white;\n",
       "                    --jp-widgets-label-color: white;\n",
       "                    --jp-ui-font-color1: white;\n",
       "                    --jp-layout-color2: #454545;\n",
       "                    background-color: #383838;\n",
       "                }\n",
       "\n",
       "                .geemap-dark .jupyter-button {\n",
       "                    --jp-layout-color3: #383838;\n",
       "                }\n",
       "\n",
       "                .geemap-colab {\n",
       "                    background-color: var(--colab-primary-surface-color, white);\n",
       "                }\n",
       "\n",
       "                .geemap-colab .jupyter-button {\n",
       "                    --jp-layout-color3: var(--colab-primary-surface-color, white);\n",
       "                }\n",
       "            </style>\n",
       "            "
      ],
      "text/plain": [
       "<IPython.core.display.HTML object>"
      ]
     },
     "metadata": {},
     "output_type": "display_data"
    }
   ],
   "source": [
    "from utils import GeoTile \n",
    "\n",
    "def gdaltindex(gpkg, tifs_dir):\n",
    "    # do a rasterio as well\n",
    "    cmd = f\"gdaltindex -f GPKG {gpkg} {tifs_dir}/*.tif\"\n",
    "    os.system(cmd)"
   ]
  },
  {
   "cell_type": "code",
   "execution_count": null,
   "metadata": {},
   "outputs": [
    {
     "data": {
      "text/html": [
       "\n",
       "            <style>\n",
       "                .geemap-dark {\n",
       "                    --jp-widgets-color: white;\n",
       "                    --jp-widgets-label-color: white;\n",
       "                    --jp-ui-font-color1: white;\n",
       "                    --jp-layout-color2: #454545;\n",
       "                    background-color: #383838;\n",
       "                }\n",
       "\n",
       "                .geemap-dark .jupyter-button {\n",
       "                    --jp-layout-color3: #383838;\n",
       "                }\n",
       "\n",
       "                .geemap-colab {\n",
       "                    background-color: var(--colab-primary-surface-color, white);\n",
       "                }\n",
       "\n",
       "                .geemap-colab .jupyter-button {\n",
       "                    --jp-layout-color3: var(--colab-primary-surface-color, white);\n",
       "                }\n",
       "            </style>\n",
       "            "
      ],
      "text/plain": [
       "<IPython.core.display.HTML object>"
      ]
     },
     "metadata": {},
     "output_type": "display_data"
    }
   ],
   "source": []
  },
  {
   "cell_type": "code",
   "execution_count": null,
   "metadata": {},
   "outputs": [
    {
     "data": {
      "text/html": [
       "\n",
       "            <style>\n",
       "                .geemap-dark {\n",
       "                    --jp-widgets-color: white;\n",
       "                    --jp-widgets-label-color: white;\n",
       "                    --jp-ui-font-color1: white;\n",
       "                    --jp-layout-color2: #454545;\n",
       "                    background-color: #383838;\n",
       "                }\n",
       "\n",
       "                .geemap-dark .jupyter-button {\n",
       "                    --jp-layout-color3: #383838;\n",
       "                }\n",
       "\n",
       "                .geemap-colab {\n",
       "                    background-color: var(--colab-primary-surface-color, white);\n",
       "                }\n",
       "\n",
       "                .geemap-colab .jupyter-button {\n",
       "                    --jp-layout-color3: var(--colab-primary-surface-color, white);\n",
       "                }\n",
       "            </style>\n",
       "            "
      ],
      "text/plain": [
       "<IPython.core.display.HTML object>"
      ]
     },
     "metadata": {},
     "output_type": "display_data"
    }
   ],
   "source": []
  },
  {
   "cell_type": "code",
   "execution_count": null,
   "metadata": {},
   "outputs": [
    {
     "data": {
      "text/html": [
       "\n",
       "            <style>\n",
       "                .geemap-dark {\n",
       "                    --jp-widgets-color: white;\n",
       "                    --jp-widgets-label-color: white;\n",
       "                    --jp-ui-font-color1: white;\n",
       "                    --jp-layout-color2: #454545;\n",
       "                    background-color: #383838;\n",
       "                }\n",
       "\n",
       "                .geemap-dark .jupyter-button {\n",
       "                    --jp-layout-color3: #383838;\n",
       "                }\n",
       "\n",
       "                .geemap-colab {\n",
       "                    background-color: var(--colab-primary-surface-color, white);\n",
       "                }\n",
       "\n",
       "                .geemap-colab .jupyter-button {\n",
       "                    --jp-layout-color3: var(--colab-primary-surface-color, white);\n",
       "                }\n",
       "            </style>\n",
       "            "
      ],
      "text/plain": [
       "<IPython.core.display.HTML object>"
      ]
     },
     "metadata": {},
     "output_type": "display_data"
    }
   ],
   "source": [
    "def patchify_workflow(tifi,ps:int,st:int,cpus:int=20):\n",
    "    gt = GeoTile(tifi)\n",
    "    outdir = f\"{os.path.dirname(tifi)}/{ps}_{st}\"\n",
    "    os.makedirs(outdir, exist_ok=True)\n",
    "\n",
    "    gt.generate_tiles(\n",
    "    output_folder=outdir,  # Folder to save tiles\n",
    "    prefix=\"tile_\",                # Optional: file name prefix\n",
    "    suffix=None,                   # Optional: file name suffix\n",
    "    save_tiles=True,               # Save tiles to disk\n",
    "    save_transform=True,           # Save geotransform + CRS to txt\n",
    "    out_bands=[1],                 # Read only the first band @@@\n",
    "    image_format=\".tif\",           # Output format\n",
    "    dtype=\"float32\",               # Force output type\n",
    "    tile_x=ps,                    # Tile width\n",
    "    tile_y=ps,                    # Tile height\n",
    "    stride_x=st,                  # Horizontal stride\n",
    "    stride_y=st,                  # Vertical stride\n",
    "    num_workers=cpus)                # Parallel threads (e.g., 8))\n",
    "    tname = tifi.split('/')[-2]\n",
    "    gpkg = f\"{os.path.dirname(tifi)}/{tname}_tindex.gpkg\"\n",
    "    if not os.path.isfile(gpkg):\n",
    "        gdaltindex(gpkg, tifs_dir=outdir)"
   ]
  },
  {
   "cell_type": "code",
   "execution_count": null,
   "metadata": {},
   "outputs": [
    {
     "data": {
      "text/html": [
       "\n",
       "            <style>\n",
       "                .geemap-dark {\n",
       "                    --jp-widgets-color: white;\n",
       "                    --jp-widgets-label-color: white;\n",
       "                    --jp-ui-font-color1: white;\n",
       "                    --jp-layout-color2: #454545;\n",
       "                    background-color: #383838;\n",
       "                }\n",
       "\n",
       "                .geemap-dark .jupyter-button {\n",
       "                    --jp-layout-color3: #383838;\n",
       "                }\n",
       "\n",
       "                .geemap-colab {\n",
       "                    background-color: var(--colab-primary-surface-color, white);\n",
       "                }\n",
       "\n",
       "                .geemap-colab .jupyter-button {\n",
       "                    --jp-layout-color3: var(--colab-primary-surface-color, white);\n",
       "                }\n",
       "            </style>\n",
       "            "
      ],
      "text/plain": [
       "<IPython.core.display.HTML object>"
      ]
     },
     "metadata": {},
     "output_type": "display_data"
    }
   ],
   "source": [
    "ps = 256\n",
    "st = 256\n",
    "tifi = dummy_tifs[0]"
   ]
  },
  {
   "cell_type": "code",
   "execution_count": null,
   "metadata": {},
   "outputs": [
    {
     "data": {
      "text/html": [
       "\n",
       "            <style>\n",
       "                .geemap-dark {\n",
       "                    --jp-widgets-color: white;\n",
       "                    --jp-widgets-label-color: white;\n",
       "                    --jp-ui-font-color1: white;\n",
       "                    --jp-layout-color2: #454545;\n",
       "                    background-color: #383838;\n",
       "                }\n",
       "\n",
       "                .geemap-dark .jupyter-button {\n",
       "                    --jp-layout-color3: #383838;\n",
       "                }\n",
       "\n",
       "                .geemap-colab {\n",
       "                    background-color: var(--colab-primary-surface-color, white);\n",
       "                }\n",
       "\n",
       "                .geemap-colab .jupyter-button {\n",
       "                    --jp-layout-color3: var(--colab-primary-surface-color, white);\n",
       "                }\n",
       "            </style>\n",
       "            "
      ],
      "text/plain": [
       "<IPython.core.display.HTML object>"
      ]
     },
     "metadata": {},
     "output_type": "display_data"
    }
   ],
   "source": [
    "for tifi in dummy_tifs:\n",
    "    #patchify_workflow(tifi,ps,st,cpus=20)"
   ]
  },
  {
   "cell_type": "code",
   "execution_count": null,
   "metadata": {},
   "outputs": [
    {
     "data": {
      "text/html": [
       "\n",
       "            <style>\n",
       "                .geemap-dark {\n",
       "                    --jp-widgets-color: white;\n",
       "                    --jp-widgets-label-color: white;\n",
       "                    --jp-ui-font-color1: white;\n",
       "                    --jp-layout-color2: #454545;\n",
       "                    background-color: #383838;\n",
       "                }\n",
       "\n",
       "                .geemap-dark .jupyter-button {\n",
       "                    --jp-layout-color3: #383838;\n",
       "                }\n",
       "\n",
       "                .geemap-colab {\n",
       "                    background-color: var(--colab-primary-surface-color, white);\n",
       "                }\n",
       "\n",
       "                .geemap-colab .jupyter-button {\n",
       "                    --jp-layout-color3: var(--colab-primary-surface-color, white);\n",
       "                }\n",
       "            </style>\n",
       "            "
      ],
      "text/plain": [
       "<IPython.core.display.HTML object>"
      ]
     },
     "metadata": {},
     "output_type": "display_data"
    }
   ],
   "source": []
  },
  {
   "cell_type": "code",
   "execution_count": null,
   "metadata": {},
   "outputs": [
    {
     "data": {
      "text/html": [
       "\n",
       "            <style>\n",
       "                .geemap-dark {\n",
       "                    --jp-widgets-color: white;\n",
       "                    --jp-widgets-label-color: white;\n",
       "                    --jp-ui-font-color1: white;\n",
       "                    --jp-layout-color2: #454545;\n",
       "                    background-color: #383838;\n",
       "                }\n",
       "\n",
       "                .geemap-dark .jupyter-button {\n",
       "                    --jp-layout-color3: #383838;\n",
       "                }\n",
       "\n",
       "                .geemap-colab {\n",
       "                    background-color: var(--colab-primary-surface-color, white);\n",
       "                }\n",
       "\n",
       "                .geemap-colab .jupyter-button {\n",
       "                    --jp-layout-color3: var(--colab-primary-surface-color, white);\n",
       "                }\n",
       "            </style>\n",
       "            "
      ],
      "text/plain": [
       "<IPython.core.display.HTML object>"
      ]
     },
     "metadata": {},
     "output_type": "display_data"
    }
   ],
   "source": []
  },
  {
   "cell_type": "code",
   "execution_count": 74,
   "metadata": {},
   "outputs": [
    {
     "data": {
      "text/html": [
       "\n",
       "            <style>\n",
       "                .geemap-dark {\n",
       "                    --jp-widgets-color: white;\n",
       "                    --jp-widgets-label-color: white;\n",
       "                    --jp-ui-font-color1: white;\n",
       "                    --jp-layout-color2: #454545;\n",
       "                    background-color: #383838;\n",
       "                }\n",
       "\n",
       "                .geemap-dark .jupyter-button {\n",
       "                    --jp-layout-color3: #383838;\n",
       "                }\n",
       "\n",
       "                .geemap-colab {\n",
       "                    background-color: var(--colab-primary-surface-color, white);\n",
       "                }\n",
       "\n",
       "                .geemap-colab .jupyter-button {\n",
       "                    --jp-layout-color3: var(--colab-primary-surface-color, white);\n",
       "                }\n",
       "            </style>\n",
       "            "
      ],
      "text/plain": [
       "<IPython.core.display.HTML object>"
      ]
     },
     "metadata": {},
     "output_type": "display_data"
    },
    {
     "data": {
      "text/plain": [
       "'/home/ljp238/Downloads/DRC_LiDAR_Roy2021/GEEdata/patches/S002E017/S002E017_tindex.gpkg'"
      ]
     },
     "execution_count": 74,
     "metadata": {},
     "output_type": "execute_result"
    }
   ],
   "source": [
    "gpkg"
   ]
  },
  {
   "cell_type": "code",
   "execution_count": 70,
   "metadata": {},
   "outputs": [
    {
     "data": {
      "text/html": [
       "\n",
       "            <style>\n",
       "                .geemap-dark {\n",
       "                    --jp-widgets-color: white;\n",
       "                    --jp-widgets-label-color: white;\n",
       "                    --jp-ui-font-color1: white;\n",
       "                    --jp-layout-color2: #454545;\n",
       "                    background-color: #383838;\n",
       "                }\n",
       "\n",
       "                .geemap-dark .jupyter-button {\n",
       "                    --jp-layout-color3: #383838;\n",
       "                }\n",
       "\n",
       "                .geemap-colab {\n",
       "                    background-color: var(--colab-primary-surface-color, white);\n",
       "                }\n",
       "\n",
       "                .geemap-colab .jupyter-button {\n",
       "                    --jp-layout-color3: var(--colab-primary-surface-color, white);\n",
       "                }\n",
       "            </style>\n",
       "            "
      ],
      "text/plain": [
       "<IPython.core.display.HTML object>"
      ]
     },
     "metadata": {},
     "output_type": "display_data"
    }
   ],
   "source": [
    "os.remove(gpkg)"
   ]
  },
  {
   "cell_type": "code",
   "execution_count": null,
   "metadata": {},
   "outputs": [],
   "source": []
  }
 ],
 "metadata": {
  "kernelspec": {
   "display_name": "agluon",
   "language": "python",
   "name": "python3"
  },
  "language_info": {
   "codemirror_mode": {
    "name": "ipython",
    "version": 3
   },
   "file_extension": ".py",
   "mimetype": "text/x-python",
   "name": "python",
   "nbconvert_exporter": "python",
   "pygments_lexer": "ipython3",
   "version": "3.11.11"
  }
 },
 "nbformat": 4,
 "nbformat_minor": 2
}

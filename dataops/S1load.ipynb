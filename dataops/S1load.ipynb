{
 "cells": [
  {
   "cell_type": "code",
   "execution_count": 1,
   "metadata": {},
   "outputs": [
    {
     "name": "stdout",
     "output_type": "stream",
     "text": [
      "['/home/ljp238/Downloads/DRC_LiDAR_Roy2021/GEEdata/patches/S003E018/S003E018_tindex.gpkg', '/home/ljp238/Downloads/DRC_LiDAR_Roy2021/GEEdata/patches/S003E017/S003E017_tindex.gpkg', '/home/ljp238/Downloads/DRC_LiDAR_Roy2021/GEEdata/patches/S002E018/S002E018_tindex.gpkg', '/home/ljp238/Downloads/DRC_LiDAR_Roy2021/GEEdata/patches/S002E017/S002E017_tindex.gpkg']\n"
     ]
    }
   ],
   "source": [
    "import os \n",
    "import ee \n",
    "import geemap\n",
    "import time \n",
    "from glob import glob\n",
    "from concurrent.futures import ThreadPoolExecutor\n",
    "import geopandas as gpd \n",
    "import GoogleEarthEngineDatasets as geed \n",
    "\n",
    "geed.ee_api_initialize(api=\"high_volume\")\n",
    "\n",
    "cpus = int(os.cpu_count() * 0.75)\n",
    "scale = 30#15 \n",
    "pol = 'VV'\n",
    "name = 'S1_VVVH'\n",
    "\n",
    "data_dload_dir = f\"/media/ljp238/12TBWolf/ARCHIEVE/GEEDataDownload/{name}\" \n",
    "pathern = \"/home/ljp238/Downloads/DRC_LiDAR_Roy2021/GEEdata/patches/*/*_tindex.gpkg\"\n",
    "gpkg_files = sorted(glob(pathern),reverse=True)\n",
    "print(gpkg_files)"
   ]
  },
  {
   "cell_type": "code",
   "execution_count": 22,
   "metadata": {},
   "outputs": [
    {
     "data": {
      "text/html": [
       "\n",
       "            <style>\n",
       "                .geemap-dark {\n",
       "                    --jp-widgets-color: white;\n",
       "                    --jp-widgets-label-color: white;\n",
       "                    --jp-ui-font-color1: white;\n",
       "                    --jp-layout-color2: #454545;\n",
       "                    background-color: #383838;\n",
       "                }\n",
       "\n",
       "                .geemap-dark .jupyter-button {\n",
       "                    --jp-layout-color3: #383838;\n",
       "                }\n",
       "\n",
       "                .geemap-colab {\n",
       "                    background-color: var(--colab-primary-surface-color, white);\n",
       "                }\n",
       "\n",
       "                .geemap-colab .jupyter-button {\n",
       "                    --jp-layout-color3: var(--colab-primary-surface-color, white);\n",
       "                }\n",
       "            </style>\n",
       "            "
      ],
      "text/plain": [
       "<IPython.core.display.HTML object>"
      ]
     },
     "metadata": {},
     "output_type": "display_data"
    }
   ],
   "source": [
    "from os.path import basename,join,isfile\n",
    "def s1_median_image(aoi,pol='VH', opass='ASCENDING',idate='2019-01-01',fdate='2022-12-01'):\n",
    "    collection = ee.ImageCollection(\"COPERNICUS/S1_GRD\") \\\n",
    "        .filterBounds(aoi) \\\n",
    "        .filterDate('2022-01-01', '2022-01-31') \\\n",
    "        .filter(ee.Filter.eq('instrumentMode', 'IW')) \\\n",
    "        .filter(ee.Filter.listContains('transmitterReceiverPolarisation', pol))\\\n",
    "        .filter(ee.Filter.eq('resolution_meters',10)) \\\n",
    "\n",
    "    # Check if the collection is not empty\n",
    "    size = collection.size().getInfo()\n",
    "    if size == 0:\n",
    "        print(\"No images found with the specified filters.\")\n",
    "    else:\n",
    "        image = collection.median().clip(aoi)\n",
    "        # Confirm available bands\n",
    "        print(image.bandNames().getInfo())\n",
    "        image = image.select(['VV', 'VH'])\n",
    "        print(image.bandNames().getInfo())\n",
    "        return image\n",
    "    \n",
    "def get_ee_geometry(i, g, name):\n",
    "    ig = g.iloc[i:i+1,]\n",
    "    bBox = [float(ig.minx), float(ig.miny), float(ig.maxx), float(ig.maxy)]\n",
    "    fname = (basename(ig.location.values[0])).replace('..tif', '.tif')\n",
    "    fname = fname.replace('.tif', f'_{name}.tif')\n",
    "    region = ee.Geometry.Rectangle(bBox)\n",
    "    return region, fname\n",
    "\n",
    "\n",
    "def gee_download_geemap(image,outpath, scale):\n",
    "    print(outpath)\n",
    "    if isfile(outpath):\n",
    "        print('Already downloaded') \n",
    "    else:\n",
    "        geemap.ee_export_image(image, outpath, scale=scale)\n",
    "\n",
    "\n",
    "def download_sentinel1(i,g,pol,name,S1tile_path,scale):\n",
    "    region, fname = get_ee_geometry(i, g,name)\n",
    "    s1img = s1_median_image(region, pol)\n",
    "    outpath = join(S1tile_path, fname)\n",
    "    gee_download_geemap(s1img,outpath, scale)"
   ]
  },
  {
   "cell_type": "code",
   "execution_count": 23,
   "metadata": {},
   "outputs": [
    {
     "data": {
      "text/html": [
       "\n",
       "            <style>\n",
       "                .geemap-dark {\n",
       "                    --jp-widgets-color: white;\n",
       "                    --jp-widgets-label-color: white;\n",
       "                    --jp-ui-font-color1: white;\n",
       "                    --jp-layout-color2: #454545;\n",
       "                    background-color: #383838;\n",
       "                }\n",
       "\n",
       "                .geemap-dark .jupyter-button {\n",
       "                    --jp-layout-color3: #383838;\n",
       "                }\n",
       "\n",
       "                .geemap-colab {\n",
       "                    background-color: var(--colab-primary-surface-color, white);\n",
       "                }\n",
       "\n",
       "                .geemap-colab .jupyter-button {\n",
       "                    --jp-layout-color3: var(--colab-primary-surface-color, white);\n",
       "                }\n",
       "            </style>\n",
       "            "
      ],
      "text/plain": [
       "<IPython.core.display.HTML object>"
      ]
     },
     "metadata": {},
     "output_type": "display_data"
    }
   ],
   "source": [
    "def sentinel1_download_par(i,g,pol,name,tname,S1tile_path,scale,gpkg_files):\n",
    "    with ThreadPoolExecutor(cpus) as TEX:\n",
    "        for j in range(g.shape[0]):\n",
    "            if j > 2: break\n",
    "            print(f'{j}/{g.shape[0]} @{tname} :: {i}{len(gpkg_files)}')\n",
    "            TEX.submit(download_sentinel1,j,g,pol,name,S1tile_path,scale)"
   ]
  },
  {
   "cell_type": "code",
   "execution_count": 24,
   "metadata": {},
   "outputs": [
    {
     "data": {
      "text/html": [
       "\n",
       "            <style>\n",
       "                .geemap-dark {\n",
       "                    --jp-widgets-color: white;\n",
       "                    --jp-widgets-label-color: white;\n",
       "                    --jp-ui-font-color1: white;\n",
       "                    --jp-layout-color2: #454545;\n",
       "                    background-color: #383838;\n",
       "                }\n",
       "\n",
       "                .geemap-dark .jupyter-button {\n",
       "                    --jp-layout-color3: #383838;\n",
       "                }\n",
       "\n",
       "                .geemap-colab {\n",
       "                    background-color: var(--colab-primary-surface-color, white);\n",
       "                }\n",
       "\n",
       "                .geemap-colab .jupyter-button {\n",
       "                    --jp-layout-color3: var(--colab-primary-surface-color, white);\n",
       "                }\n",
       "            </style>\n",
       "            "
      ],
      "text/plain": [
       "<IPython.core.display.HTML object>"
      ]
     },
     "metadata": {},
     "output_type": "display_data"
    },
    {
     "name": "stdout",
     "output_type": "stream",
     "text": [
      "gfile /home/ljp238/Downloads/DRC_LiDAR_Roy2021/GEEdata/patches/S003E018/S003E018_tindex.gpkg\n",
      "0/225 @S003E018_tindex :: 04\n",
      "1/225 @S003E018_tindex :: 04\n",
      "2/225 @S003E018_tindex :: 04\n"
     ]
    },
    {
     "name": "stderr",
     "output_type": "stream",
     "text": [
      "/tmp/ipykernel_3275336/2733603735.py:24: FutureWarning: Calling float on a single element Series is deprecated and will raise a TypeError in the future. Use float(ser.iloc[0]) instead\n",
      "  bBox = [float(ig.minx), float(ig.miny), float(ig.maxx), float(ig.maxy)]\n"
     ]
    },
    {
     "name": "stdout",
     "output_type": "stream",
     "text": [
      "['VV', 'VH', 'angle']\n",
      "['VV', 'VH', 'angle']\n",
      "['VV', 'VH', 'angle']\n",
      "['VV', 'VH']\n",
      "/media/ljp238/12TBWolf/ARCHIEVE/GEEDataDownload/S1_VVVH/S003E018_tindex/tile_1_S1_VVVH.tif\n",
      "Generating URL ...\n",
      "['VV', 'VH']\n",
      "/media/ljp238/12TBWolf/ARCHIEVE/GEEDataDownload/S1_VVVH/S003E018_tindex/tile_0_S1_VVVH.tif\n",
      "Generating URL ...\n",
      "['VV', 'VH']\n",
      "/media/ljp238/12TBWolf/ARCHIEVE/GEEDataDownload/S1_VVVH/S003E018_tindex/tile_10_S1_VVVH.tif\n",
      "Generating URL ...\n",
      "Downloading data from https://earthengine-highvolume.googleapis.com/v1/projects/ee-josephluntadilap/thumbnails/0f93af7651bf26145c7a4437debeda80-546b1c85e6107303c0f3487d1e421f35:getPixels\n",
      "Please wait ...\n",
      "Downloading data from https://earthengine-highvolume.googleapis.com/v1/projects/ee-josephluntadilap/thumbnails/4763a356a4cbe55fe6a2d522968499de-34bcf6fd53d949f9bdbc4731153aaf42:getPixels\n",
      "Please wait ...\n",
      "Downloading data from https://earthengine-highvolume.googleapis.com/v1/projects/ee-josephluntadilap/thumbnails/fe29d6accd83df2c2a1997fbaa704bfd-3e64154ccb1e5ef48fcfad2a1df4fb50:getPixels\n",
      "Please wait ...\n",
      "Data downloaded to /media/ljp238/12TBWolf/ARCHIEVE/GEEDataDownload/S1_VVVH/S003E018_tindex/tile_1_S1_VVVH.tif\n",
      "Data downloaded to /media/ljp238/12TBWolf/ARCHIEVE/GEEDataDownload/S1_VVVH/S003E018_tindex/tile_0_S1_VVVH.tif\n",
      "Data downloaded to /media/ljp238/12TBWolf/ARCHIEVE/GEEDataDownload/S1_VVVH/S003E018_tindex/tile_10_S1_VVVH.tif\n"
     ]
    }
   ],
   "source": [
    "ti = time.perf_counter()\n",
    "for i in range(len(gpkg_files)):\n",
    "    if i > 0 : break\n",
    "    gfile = gpkg_files[i]\n",
    "    g = gpd.read_file(gfile)\n",
    "    g[['minx','miny','maxx','maxy']] = g.bounds\n",
    "    print('gfile', gfile)\n",
    "    tname = os.path.basename(gfile).replace('.gpkg','')\n",
    "    S1tile_path = os.path.join(data_dload_dir, tname)\n",
    "    os.makedirs(S1tile_path, exist_ok=True)\n",
    "    sentinel1_download_par(i,g,pol,name,tname,S1tile_path,scale,gpkg_files)\n",
    "    \n",
    "    "
   ]
  },
  {
   "cell_type": "code",
   "execution_count": null,
   "metadata": {},
   "outputs": [
    {
     "data": {
      "text/html": [
       "\n",
       "            <style>\n",
       "                .geemap-dark {\n",
       "                    --jp-widgets-color: white;\n",
       "                    --jp-widgets-label-color: white;\n",
       "                    --jp-ui-font-color1: white;\n",
       "                    --jp-layout-color2: #454545;\n",
       "                    background-color: #383838;\n",
       "                }\n",
       "\n",
       "                .geemap-dark .jupyter-button {\n",
       "                    --jp-layout-color3: #383838;\n",
       "                }\n",
       "\n",
       "                .geemap-colab {\n",
       "                    background-color: var(--colab-primary-surface-color, white);\n",
       "                }\n",
       "\n",
       "                .geemap-colab .jupyter-button {\n",
       "                    --jp-layout-color3: var(--colab-primary-surface-color, white);\n",
       "                }\n",
       "            </style>\n",
       "            "
      ],
      "text/plain": [
       "<IPython.core.display.HTML object>"
      ]
     },
     "metadata": {},
     "output_type": "display_data"
    }
   ],
   "source": []
  },
  {
   "cell_type": "code",
   "execution_count": 13,
   "metadata": {},
   "outputs": [
    {
     "data": {
      "text/html": [
       "\n",
       "            <style>\n",
       "                .geemap-dark {\n",
       "                    --jp-widgets-color: white;\n",
       "                    --jp-widgets-label-color: white;\n",
       "                    --jp-ui-font-color1: white;\n",
       "                    --jp-layout-color2: #454545;\n",
       "                    background-color: #383838;\n",
       "                }\n",
       "\n",
       "                .geemap-dark .jupyter-button {\n",
       "                    --jp-layout-color3: #383838;\n",
       "                }\n",
       "\n",
       "                .geemap-colab {\n",
       "                    background-color: var(--colab-primary-surface-color, white);\n",
       "                }\n",
       "\n",
       "                .geemap-colab .jupyter-button {\n",
       "                    --jp-layout-color3: var(--colab-primary-surface-color, white);\n",
       "                }\n",
       "            </style>\n",
       "            "
      ],
      "text/plain": [
       "<IPython.core.display.HTML object>"
      ]
     },
     "metadata": {},
     "output_type": "display_data"
    },
    {
     "name": "stderr",
     "output_type": "stream",
     "text": [
      "/home/ljp238/Documents/UoE/dataops/dataops/GoogleEarthEngineDatasets.py:50: FutureWarning: Calling float on a single element Series is deprecated and will raise a TypeError in the future. Use float(ser.iloc[0]) instead\n",
      "  bBox = [float(ig.minx), float(ig.miny), float(ig.maxx), float(ig.maxy)]\n"
     ]
    },
    {
     "name": "stdout",
     "output_type": "stream",
     "text": [
      "['VV', 'VH', 'angle']\n",
      "['VV', 'VH']\n"
     ]
    }
   ],
   "source": [
    "region, fname = geed.get_ee_geometry(i, g,name)\n",
    "s1img = s1_median_image(region, pol)"
   ]
  }
 ],
 "metadata": {
  "kernelspec": {
   "display_name": "agluon",
   "language": "python",
   "name": "python3"
  },
  "language_info": {
   "codemirror_mode": {
    "name": "ipython",
    "version": 3
   },
   "file_extension": ".py",
   "mimetype": "text/x-python",
   "name": "python",
   "nbconvert_exporter": "python",
   "pygments_lexer": "ipython3",
   "version": "3.11.11"
  }
 },
 "nbformat": 4,
 "nbformat_minor": 2
}
